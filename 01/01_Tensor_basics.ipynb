{
  "nbformat": 4,
  "nbformat_minor": 0,
  "metadata": {
    "colab": {
      "name": "01.Tensor basics.ipynb",
      "provenance": [],
      "collapsed_sections": [],
      "toc_visible": true
    },
    "kernelspec": {
      "name": "python3",
      "display_name": "Python 3"
    },
    "accelerator": "GPU"
  },
  "cells": [
    {
      "cell_type": "markdown",
      "metadata": {
        "id": "AhTm-wTJNJEJ",
        "colab_type": "text"
      },
      "source": [
        "# Deep Learning & Applied AI\n",
        "\n",
        "# Tutorial 1: Tensors \n",
        "\n",
        "In this tutorial, we will cover:\n",
        "\n",
        "- PyTorch Tensors: creation, gpu tensors, shape manipulation, indexing\n",
        "\n",
        "Prerequisites:\n",
        "\n",
        "- Python\n",
        "\n",
        "Our info:\n",
        "\n",
        "- Luca Moschella (moschella@di.uniroma1.it)\n",
        "- Antonio Norelli (norelli@di.uniroma1.it)\n",
        "\n",
        "Course:\n",
        "\n",
        "- Website and notebooks will be available at https://erodola.github.io/DLAI-s2-2020/\n",
        "\n"
      ]
    },
    {
      "cell_type": "markdown",
      "metadata": {
        "id": "MDJI_JVTPMRc",
        "colab_type": "text"
      },
      "source": [
        "## Introduction\n",
        "\n",
        "Many Deep Learning frameworks have emerged for python. Arguably the most notable ones in 2019 are **TensorFlow** (with keras frontend) and **PyTorch**.\n",
        "We will use PyTorch, which is currently [the leading DL framework](https://thegradient.pub/state-of-ml-frameworks-2019-pytorch-dominates-research-tensorflow-dominates-industry/) for research."
      ]
    },
    {
      "cell_type": "markdown",
      "metadata": {
        "id": "_ptdrqwQQAi0",
        "colab_type": "text"
      },
      "source": [
        "## Numpy\n",
        "\n",
        "Numpy is a library for high-performance scientific computing in Python. It provides a multidimensional array object and tools for working with these arrays.\n",
        "\n",
        "We'll refer to such **n-dimensional arrays as tensors**.\n",
        "\n",
        "It is important to know how to use Numpy even if we will mainly use PyTorch  tensors for implementing our Deep Learning systems, since:\n",
        "\n",
        "- Numpy tensors and PyTorch tensors are very similar, most of the features that we will explain for PyTorch tensors apply to Numpy tensors.\n",
        "- In real DL systems you need to constantly switch between the two.\n",
        "\n",
        "If you have previous knowledge in Matlab, we recommend the [numpy for Matlab users page](https://docs.scipy.org/doc/numpy-1.15.0/user/numpy-for-matlab-users.html) as a useful resource.\n",
        "\n"
      ]
    },
    {
      "cell_type": "code",
      "metadata": {
        "id": "eRzmry5qj8DD",
        "colab_type": "code",
        "colab": {}
      },
      "source": [
        "import numpy as np"
      ],
      "execution_count": 0,
      "outputs": []
    },
    {
      "cell_type": "markdown",
      "metadata": {
        "id": "xsfPgLP9S0gA",
        "colab_type": "text"
      },
      "source": [
        "## PyTorch\n",
        "\n",
        "During the course we'll use and learn many parts of its API.\n",
        "You should also familiarize with the [PyTorch Documentation](https://pytorch.org/docs/stable/) as it will greatly assist you.\n",
        "\n",
        "\n"
      ]
    },
    {
      "cell_type": "code",
      "metadata": {
        "id": "SWHsmm2OTqZK",
        "colab_type": "code",
        "outputId": "4f7b11ea-4d29-4dc5-d7a7-8a7074714111",
        "colab": {
          "base_uri": "https://localhost:8080/",
          "height": 34
        }
      },
      "source": [
        "import torch\n",
        "torch.__version__"
      ],
      "execution_count": 2,
      "outputs": [
        {
          "output_type": "execute_result",
          "data": {
            "text/plain": [
              "'1.4.0'"
            ]
          },
          "metadata": {
            "tags": []
          },
          "execution_count": 2
        }
      ]
    },
    {
      "cell_type": "markdown",
      "metadata": {
        "id": "7odUeGK8TmVh",
        "colab_type": "text"
      },
      "source": [
        "### **PyTorch Tensor**\n",
        "\n",
        "The ``Tensor`` class is very similar to numpy's ``ndarray`` and provides most of its functionality.\n",
        "\n",
        "\n",
        "However, it also has two important distinctions:\n",
        "\n",
        "- Support for GPU computations.\n",
        "- Each tensor may store extra information needed *to* perform back propagation:\n",
        "  - The gradient tensor w.r.t. some variable (e.g. the loss)\n",
        "  - A node representing an operation in the computational graph that produced this tensor.\n",
        "\n",
        "\n",
        "Keep in mind:\n",
        "\n",
        "- Usually **tensor operations are not in-place**"
      ]
    },
    {
      "cell_type": "markdown",
      "metadata": {
        "id": "dkkmkYGDXFFU",
        "colab_type": "text"
      },
      "source": [
        "#### **Tensor construction**\n",
        "\n",
        "A tensor represents an n-dimensional grid of values, **all of the same type**. "
      ]
    },
    {
      "cell_type": "code",
      "metadata": {
        "id": "F-i2-H7QU7DH",
        "colab_type": "code",
        "outputId": "e42851cd-a17d-47ac-d9ff-bcf6b98e83d3",
        "colab": {
          "base_uri": "https://localhost:8080/",
          "height": 51
        }
      },
      "source": [
        "# Basic tensor creation from python lists\n",
        "torch.tensor([[1, 2, 3], [4, 5, 6]], dtype=torch.int32)"
      ],
      "execution_count": 3,
      "outputs": [
        {
          "output_type": "execute_result",
          "data": {
            "text/plain": [
              "tensor([[1, 2, 3],\n",
              "        [4, 5, 6]], dtype=torch.int32)"
            ]
          },
          "metadata": {
            "tags": []
          },
          "execution_count": 3
        }
      ]
    },
    {
      "cell_type": "code",
      "metadata": {
        "id": "5LNGnqk3VbkU",
        "colab_type": "code",
        "outputId": "490b9547-4d9e-40cd-b40a-5da7b3acdeb6",
        "colab": {
          "base_uri": "https://localhost:8080/",
          "height": 68
        }
      },
      "source": [
        "# Some other tensor construction methods\n",
        "torch.zeros((3,5))"
      ],
      "execution_count": 4,
      "outputs": [
        {
          "output_type": "execute_result",
          "data": {
            "text/plain": [
              "tensor([[0., 0., 0., 0., 0.],\n",
              "        [0., 0., 0., 0., 0.],\n",
              "        [0., 0., 0., 0., 0.]])"
            ]
          },
          "metadata": {
            "tags": []
          },
          "execution_count": 4
        }
      ]
    },
    {
      "cell_type": "code",
      "metadata": {
        "id": "8et3bE93WLBR",
        "colab_type": "code",
        "outputId": "216e0c71-c8d0-46f2-e303-45ec53834ed9",
        "colab": {
          "base_uri": "https://localhost:8080/",
          "height": 51
        }
      },
      "source": [
        "torch.ones((2,5), dtype=torch.float64)"
      ],
      "execution_count": 5,
      "outputs": [
        {
          "output_type": "execute_result",
          "data": {
            "text/plain": [
              "tensor([[1., 1., 1., 1., 1.],\n",
              "        [1., 1., 1., 1., 1.]], dtype=torch.float64)"
            ]
          },
          "metadata": {
            "tags": []
          },
          "execution_count": 5
        }
      ]
    },
    {
      "cell_type": "code",
      "metadata": {
        "id": "v2Ehsm4WcML0",
        "colab_type": "code",
        "outputId": "9ae3f026-3b09-4dd1-f992-ee5c76b65d34",
        "colab": {
          "base_uri": "https://localhost:8080/",
          "height": 85
        }
      },
      "source": [
        "torch.eye(4)"
      ],
      "execution_count": 6,
      "outputs": [
        {
          "output_type": "execute_result",
          "data": {
            "text/plain": [
              "tensor([[1., 0., 0., 0.],\n",
              "        [0., 1., 0., 0.],\n",
              "        [0., 0., 1., 0.],\n",
              "        [0., 0., 0., 1.]])"
            ]
          },
          "metadata": {
            "tags": []
          },
          "execution_count": 6
        }
      ]
    },
    {
      "cell_type": "code",
      "metadata": {
        "id": "jokiBKanWFIE",
        "colab_type": "code",
        "outputId": "1ebafa92-7588-49da-a942-1d64b1c24031",
        "colab": {
          "base_uri": "https://localhost:8080/",
          "height": 51
        }
      },
      "source": [
        "torch.rand((2,2))"
      ],
      "execution_count": 7,
      "outputs": [
        {
          "output_type": "execute_result",
          "data": {
            "text/plain": [
              "tensor([[0.1247, 0.1998],\n",
              "        [0.4345, 0.4637]])"
            ]
          },
          "metadata": {
            "tags": []
          },
          "execution_count": 7
        }
      ]
    },
    {
      "cell_type": "code",
      "metadata": {
        "id": "DHV8h3LVWRaI",
        "colab_type": "code",
        "outputId": "dab6a4ae-667b-4aa4-c6f9-6055b197ac30",
        "colab": {
          "base_uri": "https://localhost:8080/",
          "height": 68
        }
      },
      "source": [
        "torch.randint(0, 100, (3,3))"
      ],
      "execution_count": 8,
      "outputs": [
        {
          "output_type": "execute_result",
          "data": {
            "text/plain": [
              "tensor([[13, 32, 42],\n",
              "        [19, 95, 10],\n",
              "        [69, 93, 94]])"
            ]
          },
          "metadata": {
            "tags": []
          },
          "execution_count": 8
        }
      ]
    },
    {
      "cell_type": "code",
      "metadata": {
        "id": "zsf9dn4CWl2V",
        "colab_type": "code",
        "outputId": "9bedd141-e3ef-4df7-e155-144551ade22c",
        "colab": {
          "base_uri": "https://localhost:8080/",
          "height": 68
        }
      },
      "source": [
        "t = torch.rand((3, 3))\n",
        "torch.ones_like(t)"
      ],
      "execution_count": 9,
      "outputs": [
        {
          "output_type": "execute_result",
          "data": {
            "text/plain": [
              "tensor([[1., 1., 1.],\n",
              "        [1., 1., 1.],\n",
              "        [1., 1., 1.]])"
            ]
          },
          "metadata": {
            "tags": []
          },
          "execution_count": 9
        }
      ]
    },
    {
      "cell_type": "markdown",
      "metadata": {
        "id": "KiRfQEztdwqE",
        "colab_type": "text"
      },
      "source": [
        "It is possible to easily convert to/from Numpy tensors:"
      ]
    },
    {
      "cell_type": "code",
      "metadata": {
        "id": "aI5VsGZJd2rV",
        "colab_type": "code",
        "outputId": "650e443d-b36d-4cd6-d8b3-9548f04427b4",
        "colab": {
          "base_uri": "https://localhost:8080/",
          "height": 68
        }
      },
      "source": [
        "t = torch.rand((3, 3), dtype=torch.float32)\n",
        "t.numpy()"
      ],
      "execution_count": 10,
      "outputs": [
        {
          "output_type": "execute_result",
          "data": {
            "text/plain": [
              "array([[0.00156087, 0.4444105 , 0.9492062 ],\n",
              "       [0.6479398 , 0.26873899, 0.20878828],\n",
              "       [0.5404571 , 0.46567917, 0.91139543]], dtype=float32)"
            ]
          },
          "metadata": {
            "tags": []
          },
          "execution_count": 10
        }
      ]
    },
    {
      "cell_type": "code",
      "metadata": {
        "id": "Wt4Uy9Bbd81h",
        "colab_type": "code",
        "outputId": "cad109d8-c40f-4cc9-93dd-d606b85a4d23",
        "colab": {
          "base_uri": "https://localhost:8080/",
          "height": 68
        }
      },
      "source": [
        "n = np.random.rand(3,3).astype(np.float16)\n",
        "torch.from_numpy(n)"
      ],
      "execution_count": 11,
      "outputs": [
        {
          "output_type": "execute_result",
          "data": {
            "text/plain": [
              "tensor([[0.5205, 0.6519, 0.7744],\n",
              "        [0.0482, 0.6895, 0.3210],\n",
              "        [0.2520, 0.9697, 0.4143]], dtype=torch.float16)"
            ]
          },
          "metadata": {
            "tags": []
          },
          "execution_count": 11
        }
      ]
    },
    {
      "cell_type": "markdown",
      "metadata": {
        "id": "6FYkcuhs84Sp",
        "colab_type": "text"
      },
      "source": [
        "There are many other functions available to create tensors!"
      ]
    },
    {
      "cell_type": "markdown",
      "metadata": {
        "id": "RPEmhFYd5TK-",
        "colab_type": "text"
      },
      "source": [
        "> **EXERCISE**\n",
        ">\n",
        "> Create a matrix $M \\in R^{3 \\times 3}$ that is filled with 2 along the diagonal and 1 elsewhere, that is:\n",
        ">\n",
        "> $$\n",
        "m_{ij} =\n",
        "\\begin{cases}\n",
        "2 & \\text{if } i = j \\\\\n",
        "1 & \\text{otherwise}\n",
        "\\end{cases}\n",
        "$$ "
      ]
    },
    {
      "cell_type": "code",
      "metadata": {
        "id": "byUasUkZfO_r",
        "colab_type": "code",
        "outputId": "9e57c577-25db-4abe-866f-e87b04e5dffc",
        "colab": {
          "base_uri": "https://localhost:8080/",
          "height": 68
        }
      },
      "source": [
        "torch.ones((3, 3)) + torch.eye(3)"
      ],
      "execution_count": 12,
      "outputs": [
        {
          "output_type": "execute_result",
          "data": {
            "text/plain": [
              "tensor([[2., 1., 1.],\n",
              "        [1., 2., 1.],\n",
              "        [1., 1., 2.]])"
            ]
          },
          "metadata": {
            "tags": []
          },
          "execution_count": 12
        }
      ]
    },
    {
      "cell_type": "markdown",
      "metadata": {
        "id": "_c7X85hbWs0c",
        "colab_type": "text"
      },
      "source": [
        "#### **Tensor properties**"
      ]
    },
    {
      "cell_type": "markdown",
      "metadata": {
        "id": "1XCHWcMlbhH0",
        "colab_type": "text"
      },
      "source": [
        "The **type** of a tensor is the type of each element contained in the tensor:"
      ]
    },
    {
      "cell_type": "code",
      "metadata": {
        "id": "XP4CyRTmXYpd",
        "colab_type": "code",
        "outputId": "392969a7-bc17-4f35-b460-22e73e0e5cc8",
        "colab": {
          "base_uri": "https://localhost:8080/",
          "height": 34
        }
      },
      "source": [
        "t = torch.rand((3, 3))\n",
        "t.dtype"
      ],
      "execution_count": 13,
      "outputs": [
        {
          "output_type": "execute_result",
          "data": {
            "text/plain": [
              "torch.float32"
            ]
          },
          "metadata": {
            "tags": []
          },
          "execution_count": 13
        }
      ]
    },
    {
      "cell_type": "markdown",
      "metadata": {
        "id": "TBoZHIlybZUV",
        "colab_type": "text"
      },
      "source": [
        "\n",
        "The **shape** of a tensor is a tuple of integers giving the size of the tensor along each dimension, e.g. for a matrix $M \\in R^{3 \\times 5}$:"
      ]
    },
    {
      "cell_type": "code",
      "metadata": {
        "id": "PjuSpqbvXbqs",
        "colab_type": "code",
        "outputId": "df263de8-d9b9-471d-9ef0-d141635dde20",
        "colab": {
          "base_uri": "https://localhost:8080/",
          "height": 34
        }
      },
      "source": [
        "t = torch.rand((3,5))\n",
        "t.shape"
      ],
      "execution_count": 14,
      "outputs": [
        {
          "output_type": "execute_result",
          "data": {
            "text/plain": [
              "torch.Size([3, 5])"
            ]
          },
          "metadata": {
            "tags": []
          },
          "execution_count": 14
        }
      ]
    },
    {
      "cell_type": "markdown",
      "metadata": {
        "id": "UFhAblNmbswv",
        "colab_type": "text"
      },
      "source": [
        "The **device** of a tensor indicates the memory in which the tensor currently resides: RAM (indicated as ``cpu``) or GPU memory (indicated ``cuda``)"
      ]
    },
    {
      "cell_type": "code",
      "metadata": {
        "id": "_4okES1zXcy2",
        "colab_type": "code",
        "outputId": "c70152e6-1b4c-43f6-e355-91917d0f1d12",
        "colab": {
          "base_uri": "https://localhost:8080/",
          "height": 34
        }
      },
      "source": [
        "t = torch.rand((3,5))\n",
        "t.device"
      ],
      "execution_count": 15,
      "outputs": [
        {
          "output_type": "execute_result",
          "data": {
            "text/plain": [
              "device(type='cpu')"
            ]
          },
          "metadata": {
            "tags": []
          },
          "execution_count": 15
        }
      ]
    },
    {
      "cell_type": "markdown",
      "metadata": {
        "id": "UM0UCkZ49DPk",
        "colab_type": "text"
      },
      "source": [
        "> **EXERCISE**\n",
        ">\n",
        "> Given a matrix $X \\in R^{m \\times n}$, create another matrix $Y \\in R^{m \\times 3}$ filled with ones."
      ]
    },
    {
      "cell_type": "code",
      "metadata": {
        "id": "_GJinHgLzs11",
        "colab_type": "code",
        "outputId": "1893a57d-edd1-4387-a4f6-40fb8e8ff634",
        "colab": {
          "base_uri": "https://localhost:8080/",
          "height": 34
        }
      },
      "source": [
        "x = torch.rand(100,42)\n",
        "\n",
        "torch.ones_like(x).shape"
      ],
      "execution_count": 16,
      "outputs": [
        {
          "output_type": "execute_result",
          "data": {
            "text/plain": [
              "torch.Size([100, 42])"
            ]
          },
          "metadata": {
            "tags": []
          },
          "execution_count": 16
        }
      ]
    },
    {
      "cell_type": "markdown",
      "metadata": {
        "id": "_8Wa3JFCXd7J",
        "colab_type": "text"
      },
      "source": [
        "#### **Using the GPU**\n",
        "\n",
        "It is possible to move tensors to **GPU** memory, if a GPU is available on the machine.\n",
        "\n",
        "Operations between tensors in the GPU memory will use the GPU computation capability."
      ]
    },
    {
      "cell_type": "code",
      "metadata": {
        "id": "bgZST3s_CaLm",
        "colab_type": "code",
        "outputId": "716f99a2-7202-439f-ec00-59f984a3a16f",
        "colab": {
          "base_uri": "https://localhost:8080/",
          "height": 321
        }
      },
      "source": [
        "from IPython.display import YouTubeVideo, HTML, display\n",
        "\n",
        "display(YouTubeVideo('-P28LKWTzrI?t=14'))"
      ],
      "execution_count": 17,
      "outputs": [
        {
          "output_type": "display_data",
          "data": {
            "text/html": [
              "\n",
              "        <iframe\n",
              "            width=\"400\"\n",
              "            height=\"300\"\n",
              "            src=\"https://www.youtube.com/embed/-P28LKWTzrI?t=14\"\n",
              "            frameborder=\"0\"\n",
              "            allowfullscreen\n",
              "        ></iframe>\n",
              "        "
            ],
            "text/plain": [
              "<IPython.lib.display.YouTubeVideo at 0x7ffb1a9b5ac8>"
            ]
          },
          "metadata": {
            "tags": []
          }
        }
      ]
    },
    {
      "cell_type": "code",
      "metadata": {
        "id": "gbIogawQYBvW",
        "colab_type": "code",
        "outputId": "10d6743f-02de-4960-d3c4-b905bbcf9fc5",
        "colab": {
          "base_uri": "https://localhost:8080/",
          "height": 34
        }
      },
      "source": [
        "# Check if the GPU is available\n",
        "torch.cuda.is_available()"
      ],
      "execution_count": 18,
      "outputs": [
        {
          "output_type": "execute_result",
          "data": {
            "text/plain": [
              "True"
            ]
          },
          "metadata": {
            "tags": []
          },
          "execution_count": 18
        }
      ]
    },
    {
      "cell_type": "code",
      "metadata": {
        "id": "TVYbgoigX_PL",
        "colab_type": "code",
        "outputId": "2e84e2cb-445c-4fda-e6d6-87d67ae53c5b",
        "colab": {
          "base_uri": "https://localhost:8080/",
          "height": 34
        }
      },
      "source": [
        "# If available use the GPU\n",
        "device = torch.device('cuda' if torch.cuda.is_available() else 'cpu')\n",
        "device"
      ],
      "execution_count": 19,
      "outputs": [
        {
          "output_type": "execute_result",
          "data": {
            "text/plain": [
              "device(type='cuda')"
            ]
          },
          "metadata": {
            "tags": []
          },
          "execution_count": 19
        }
      ]
    },
    {
      "cell_type": "code",
      "metadata": {
        "id": "yhHVeolzWZQn",
        "colab_type": "code",
        "outputId": "d9d9d0c2-9f14-4acc-fb7c-72502aa09a29",
        "colab": {
          "base_uri": "https://localhost:8080/",
          "height": 68
        }
      },
      "source": [
        "t = torch.rand((3,3))\n",
        "t = t.to(device)  # Pay attention to re-assign the variable!\n",
        "t"
      ],
      "execution_count": 20,
      "outputs": [
        {
          "output_type": "execute_result",
          "data": {
            "text/plain": [
              "tensor([[0.2671, 0.8841, 0.9379],\n",
              "        [0.5459, 0.9374, 0.9977],\n",
              "        [0.1277, 0.3712, 0.0026]], device='cuda:0')"
            ]
          },
          "metadata": {
            "tags": []
          },
          "execution_count": 20
        }
      ]
    },
    {
      "cell_type": "code",
      "metadata": {
        "id": "Al_WAx4RWDy2",
        "colab_type": "code",
        "outputId": "5ad7a86a-597f-4482-9af6-95b4d96efc30",
        "colab": {
          "base_uri": "https://localhost:8080/",
          "height": 102
        }
      },
      "source": [
        "# Construct tensors directly on the GPU memory\n",
        "t = torch.ones((5, 5), device='cuda')\n",
        "t"
      ],
      "execution_count": 21,
      "outputs": [
        {
          "output_type": "execute_result",
          "data": {
            "text/plain": [
              "tensor([[1., 1., 1., 1., 1.],\n",
              "        [1., 1., 1., 1., 1.],\n",
              "        [1., 1., 1., 1., 1.],\n",
              "        [1., 1., 1., 1., 1.],\n",
              "        [1., 1., 1., 1., 1.]], device='cuda:0')"
            ]
          },
          "metadata": {
            "tags": []
          },
          "execution_count": 21
        }
      ]
    },
    {
      "cell_type": "code",
      "metadata": {
        "id": "sNVVE4KCWB3C",
        "colab_type": "code",
        "colab": {}
      },
      "source": [
        "# Other methods to transfer tensors between devices\n",
        "t = torch.rand((3,3))"
      ],
      "execution_count": 0,
      "outputs": []
    },
    {
      "cell_type": "code",
      "metadata": {
        "id": "nuynABfrVZmD",
        "colab_type": "code",
        "outputId": "979ae858-d672-4291-ee4b-786665f04759",
        "colab": {
          "base_uri": "https://localhost:8080/",
          "height": 68
        }
      },
      "source": [
        "t = t.cuda()\n",
        "t"
      ],
      "execution_count": 23,
      "outputs": [
        {
          "output_type": "execute_result",
          "data": {
            "text/plain": [
              "tensor([[0.0560, 0.5709, 0.5793],\n",
              "        [0.8856, 0.0531, 0.1918],\n",
              "        [0.6665, 0.5382, 0.1194]], device='cuda:0')"
            ]
          },
          "metadata": {
            "tags": []
          },
          "execution_count": 23
        }
      ]
    },
    {
      "cell_type": "code",
      "metadata": {
        "id": "JkOX8icwVXPK",
        "colab_type": "code",
        "outputId": "732223be-5569-4112-d299-f8d94c281521",
        "colab": {
          "base_uri": "https://localhost:8080/",
          "height": 68
        }
      },
      "source": [
        "t = t.cpu()\n",
        "t"
      ],
      "execution_count": 24,
      "outputs": [
        {
          "output_type": "execute_result",
          "data": {
            "text/plain": [
              "tensor([[0.0560, 0.5709, 0.5793],\n",
              "        [0.8856, 0.0531, 0.1918],\n",
              "        [0.6665, 0.5382, 0.1194]])"
            ]
          },
          "metadata": {
            "tags": []
          },
          "execution_count": 24
        }
      ]
    },
    {
      "cell_type": "markdown",
      "metadata": {
        "id": "1g8l8j4deyZ2",
        "colab_type": "text"
      },
      "source": [
        "#### **Tensor rank**\n",
        "\n",
        "In **Numpy** and **PyTorch** the **rank** means **number of dimensions** (different meaning in Linear Algebra!)"
      ]
    },
    {
      "cell_type": "code",
      "metadata": {
        "id": "mj0gWQ-FgsZ2",
        "colab_type": "code",
        "cellView": "both",
        "colab": {}
      },
      "source": [
        "from typing import Union\n",
        "\n",
        "# Utility print function\n",
        "def print_arr(*arr: Union[torch.Tensor, np.ndarray], prefix: str = \"\") -> None:\n",
        "    \"\"\" Pretty print tensors, together with their shape and type\n",
        "    \n",
        "    :param arr: one or more tensors\n",
        "    :param prefix: prefix to use when printing the tensors\n",
        "    \"\"\"\n",
        "    print(\n",
        "        \"\\n\\n\".join(\n",
        "            f\"{prefix}{str(x)} <shape: {x.shape}> <dtype: {x.dtype}>\" for x in arr\n",
        "        )\n",
        "    )"
      ],
      "execution_count": 0,
      "outputs": []
    },
    {
      "cell_type": "markdown",
      "metadata": {
        "id": "pF8r6t6VTbrf",
        "colab_type": "text"
      },
      "source": [
        "- **rank-0** tensors are just scalars"
      ]
    },
    {
      "cell_type": "code",
      "metadata": {
        "id": "lfSjfJ7bTHlZ",
        "colab_type": "code",
        "outputId": "aa4b8af1-1841-4729-d5ac-9fdb861e44a9",
        "colab": {
          "base_uri": "https://localhost:8080/",
          "height": 34
        }
      },
      "source": [
        "t0 = torch.tensor(3, dtype=torch.double)\n",
        "\n",
        "print_arr(t0) "
      ],
      "execution_count": 26,
      "outputs": [
        {
          "output_type": "stream",
          "text": [
            "tensor(3., dtype=torch.float64) <shape: torch.Size([])> <dtype: torch.float64>\n"
          ],
          "name": "stdout"
        }
      ]
    },
    {
      "cell_type": "code",
      "metadata": {
        "id": "4O2GLaL0SxHn",
        "colab_type": "code",
        "outputId": "f166a1ad-72c8-483d-bd20-da501e2f4665",
        "colab": {
          "base_uri": "https://localhost:8080/",
          "height": 34
        }
      },
      "source": [
        "item = t0.item()  # convert tensor scalar to a python base type\n",
        "item, type(item)"
      ],
      "execution_count": 27,
      "outputs": [
        {
          "output_type": "execute_result",
          "data": {
            "text/plain": [
              "(3.0, float)"
            ]
          },
          "metadata": {
            "tags": []
          },
          "execution_count": 27
        }
      ]
    },
    {
      "cell_type": "markdown",
      "metadata": {
        "id": "El2afq3-Sujl",
        "colab_type": "text"
      },
      "source": [
        "- **rank-1** tensors of length ``n``have a shape of ``(n,)``"
      ]
    },
    {
      "cell_type": "code",
      "metadata": {
        "id": "Twmbub4VSrvt",
        "colab_type": "code",
        "outputId": "2a5ef69e-e7df-41f4-bdb0-2c9d63e4b7ec",
        "colab": {
          "base_uri": "https://localhost:8080/",
          "height": 34
        }
      },
      "source": [
        "# A rank-1 array\n",
        "t1 = torch.tensor([1, 2, 3])\n",
        "\n",
        "print_arr(t1)"
      ],
      "execution_count": 28,
      "outputs": [
        {
          "output_type": "stream",
          "text": [
            "tensor([1, 2, 3]) <shape: torch.Size([3])> <dtype: torch.int64>\n"
          ],
          "name": "stdout"
        }
      ]
    },
    {
      "cell_type": "code",
      "metadata": {
        "id": "3LA-5C4kSHXv",
        "colab_type": "code",
        "outputId": "8475a66f-7bb3-4a26-d164-13ef941f3f32",
        "colab": {
          "base_uri": "https://localhost:8080/",
          "height": 34
        }
      },
      "source": [
        "# A rank-1 array with a single scalar\n",
        "print_arr(torch.tensor([42]))"
      ],
      "execution_count": 29,
      "outputs": [
        {
          "output_type": "stream",
          "text": [
            "tensor([42]) <shape: torch.Size([1])> <dtype: torch.int64>\n"
          ],
          "name": "stdout"
        }
      ]
    },
    {
      "cell_type": "markdown",
      "metadata": {
        "id": "Lj0NVuY3Rzp0",
        "colab_type": "text"
      },
      "source": [
        "- **rank-2** tensors have a shape of ``(n, m)``"
      ]
    },
    {
      "cell_type": "code",
      "metadata": {
        "id": "wui6OfMFPdnM",
        "colab_type": "code",
        "outputId": "de74bf5d-60f6-4981-f9a6-b8eb985d58f5",
        "colab": {
          "base_uri": "https://localhost:8080/",
          "height": 51
        }
      },
      "source": [
        "t2 = torch.tensor([[1, 2, 3], [4, 5, 6]])\n",
        "\n",
        "print_arr(t2)"
      ],
      "execution_count": 30,
      "outputs": [
        {
          "output_type": "stream",
          "text": [
            "tensor([[1, 2, 3],\n",
            "        [4, 5, 6]]) <shape: torch.Size([2, 3])> <dtype: torch.int64>\n"
          ],
          "name": "stdout"
        }
      ]
    },
    {
      "cell_type": "code",
      "metadata": {
        "id": "_hBNed-yOmmQ",
        "colab_type": "code",
        "outputId": "b1cd2c69-782b-4551-fc2f-8fd70f05da8e",
        "colab": {
          "base_uri": "https://localhost:8080/",
          "height": 68
        }
      },
      "source": [
        "# A column vector is a rank-2 tensor\n",
        "t_col = t1.reshape(-1, 1)\n",
        "\n",
        "print_arr(t_col)"
      ],
      "execution_count": 31,
      "outputs": [
        {
          "output_type": "stream",
          "text": [
            "tensor([[1],\n",
            "        [2],\n",
            "        [3]]) <shape: torch.Size([3, 1])> <dtype: torch.int64>\n"
          ],
          "name": "stdout"
        }
      ]
    },
    {
      "cell_type": "code",
      "metadata": {
        "id": "Qad_RigUjEtA",
        "colab_type": "code",
        "outputId": "c29d17ba-c053-478f-b3f3-086cb15a51d9",
        "colab": {
          "base_uri": "https://localhost:8080/",
          "height": 34
        }
      },
      "source": [
        "# A row vector is a rank-2 tensor\n",
        "t_row = t1.reshape(1, -1)\n",
        "\n",
        "print_arr(t_row)"
      ],
      "execution_count": 32,
      "outputs": [
        {
          "output_type": "stream",
          "text": [
            "tensor([[1, 2, 3]]) <shape: torch.Size([1, 3])> <dtype: torch.int64>\n"
          ],
          "name": "stdout"
        }
      ]
    },
    {
      "cell_type": "markdown",
      "metadata": {
        "id": "KJ3IFNmU0_a2",
        "colab_type": "text"
      },
      "source": [
        "> **NOTE**\n",
        ">\n",
        "> The rank-1 tensors are consider to be both row and column tensors\n"
      ]
    },
    {
      "cell_type": "markdown",
      "metadata": {
        "id": "BeGPcSYMOlv0",
        "colab_type": "text"
      },
      "source": [
        "- **rank-k** tensors have a shape of $(n_1, \\dots, n_k)$"
      ]
    },
    {
      "cell_type": "code",
      "metadata": {
        "id": "hg5bbeCIjuL_",
        "colab_type": "code",
        "outputId": "30c1f292-3bc3-4500-df7d-e7f92e3cda40",
        "colab": {
          "base_uri": "https://localhost:8080/",
          "height": 136
        }
      },
      "source": [
        "print_arr(torch.zeros((2, 3, 4)))"
      ],
      "execution_count": 33,
      "outputs": [
        {
          "output_type": "stream",
          "text": [
            "tensor([[[0., 0., 0., 0.],\n",
            "         [0., 0., 0., 0.],\n",
            "         [0., 0., 0., 0.]],\n",
            "\n",
            "        [[0., 0., 0., 0.],\n",
            "         [0., 0., 0., 0.],\n",
            "         [0., 0., 0., 0.]]]) <shape: torch.Size([2, 3, 4])> <dtype: torch.float32>\n"
          ],
          "name": "stdout"
        }
      ]
    },
    {
      "cell_type": "code",
      "metadata": {
        "id": "3O68PwBGOjpe",
        "colab_type": "code",
        "outputId": "3360da68-39d8-4e2f-d1f7-324bbfa9fc98",
        "colab": {
          "base_uri": "https://localhost:8080/",
          "height": 221
        }
      },
      "source": [
        "print_arr(torch.ones((2, 2, 2, 2)))"
      ],
      "execution_count": 34,
      "outputs": [
        {
          "output_type": "stream",
          "text": [
            "tensor([[[[1., 1.],\n",
            "          [1., 1.]],\n",
            "\n",
            "         [[1., 1.],\n",
            "          [1., 1.]]],\n",
            "\n",
            "\n",
            "        [[[1., 1.],\n",
            "          [1., 1.]],\n",
            "\n",
            "         [[1., 1.],\n",
            "          [1., 1.]]]]) <shape: torch.Size([2, 2, 2, 2])> <dtype: torch.float32>\n"
          ],
          "name": "stdout"
        }
      ]
    },
    {
      "cell_type": "markdown",
      "metadata": {
        "id": "xkugOzEKi3wk",
        "colab_type": "text"
      },
      "source": [
        "> **EXERCISE**\n",
        ">\n",
        "> Build a tensor $X \\in R^{4 \\times 4}$ filled with zeros and the sequence $[0, 1, 2, 3]$ along the diagonal"
      ]
    },
    {
      "cell_type": "code",
      "metadata": {
        "id": "E3-vcutYkKH-",
        "colab_type": "code",
        "outputId": "a4435ef4-1f45-45a3-8108-5fb388d8c04e",
        "colab": {
          "base_uri": "https://localhost:8080/",
          "height": 85
        }
      },
      "source": [
        "# Build the tensor manually\n",
        "b = torch.tensor([[0, 0, 0, 0],\n",
        "                  [0, 1, 0, 0],\n",
        "                  [0, 0, 2, 0],\n",
        "                  [0, 0, 2, 3]\n",
        "                  ], dtype=torch.float)\n",
        "b"
      ],
      "execution_count": 35,
      "outputs": [
        {
          "output_type": "execute_result",
          "data": {
            "text/plain": [
              "tensor([[0., 0., 0., 0.],\n",
              "        [0., 1., 0., 0.],\n",
              "        [0., 0., 2., 0.],\n",
              "        [0., 0., 2., 3.]])"
            ]
          },
          "metadata": {
            "tags": []
          },
          "execution_count": 35
        }
      ]
    },
    {
      "cell_type": "code",
      "metadata": {
        "id": "cAbsgXuSkHkz",
        "colab_type": "code",
        "outputId": "f82d2d9f-5d51-4346-a752-6ba33ac09a4a",
        "colab": {
          "base_uri": "https://localhost:8080/",
          "height": 85
        }
      },
      "source": [
        "# Use advanced indexing\n",
        "a = torch.zeros(4, 4)\n",
        "indices = torch.arange(4, dtype=torch.long)\n",
        "a[indices, indices] = indices.to(torch.float)  # You can use `.to` to convert between types\n",
        "a"
      ],
      "execution_count": 36,
      "outputs": [
        {
          "output_type": "execute_result",
          "data": {
            "text/plain": [
              "tensor([[0., 0., 0., 0.],\n",
              "        [0., 1., 0., 0.],\n",
              "        [0., 0., 2., 0.],\n",
              "        [0., 0., 0., 3.]])"
            ]
          },
          "metadata": {
            "tags": []
          },
          "execution_count": 36
        }
      ]
    },
    {
      "cell_type": "markdown",
      "metadata": {
        "id": "8Dixdu5yjZ0g",
        "colab_type": "text"
      },
      "source": [
        "> **EXERCISE**\n",
        ">\n",
        "> Which is the shape of the following tensor?\n",
        "> \n",
        "> ```\n",
        "> tensor([[[1., 1.],\n",
        ">           [1., 1.]],\n",
        "> \n",
        ">          [[1., 1.],\n",
        ">           [1., 1.]],\n",
        ">\n",
        ">          [[1., 1.],\n",
        ">           [1., 1.]],\n",
        "> \n",
        ">          [[1., 1.],\n",
        ">           [1., 1.]]])\n",
        "> ```\n",
        "\n"
      ]
    },
    {
      "cell_type": "code",
      "metadata": {
        "id": "PXIhMoIO1DJA",
        "colab_type": "code",
        "outputId": "0abbfbeb-f47d-4dab-bafc-fa671e7937b4",
        "colab": {
          "base_uri": "https://localhost:8080/",
          "height": 34
        }
      },
      "source": [
        "torch.tensor(\n",
        "    [\n",
        "     [[1., 1.],\n",
        "      [1., 1.]],\n",
        "     \n",
        "     [[1., 1.],\n",
        "      [1., 1.]],\n",
        "     \n",
        "     [[1., 1.],\n",
        "      [1., 1.]],\n",
        "     \n",
        "     [[1., 1.],\n",
        "      [1., 1.]]\n",
        "     ]).shape"
      ],
      "execution_count": 37,
      "outputs": [
        {
          "output_type": "execute_result",
          "data": {
            "text/plain": [
              "torch.Size([4, 2, 2])"
            ]
          },
          "metadata": {
            "tags": []
          },
          "execution_count": 37
        }
      ]
    },
    {
      "cell_type": "markdown",
      "metadata": {
        "id": "tfGGF8mmSJkq",
        "colab_type": "text"
      },
      "source": [
        "### **Changing and adding dimensions**\n",
        "\n",
        "PyTorch provides several functions to manipulate tensor's shapes\n"
      ]
    },
    {
      "cell_type": "markdown",
      "metadata": {
        "id": "i51GvUnwSc0U",
        "colab_type": "text"
      },
      "source": [
        "#### **Transpose dimension**"
      ]
    },
    {
      "cell_type": "code",
      "metadata": {
        "id": "g1kH1K7XS6KS",
        "colab_type": "code",
        "outputId": "3ca64ee3-1bed-4d9d-de2d-52af9c09baa3",
        "colab": {
          "base_uri": "https://localhost:8080/",
          "height": 68
        }
      },
      "source": [
        "a = torch.ones((3, 5))\n",
        "a[0, -1] = 0\n",
        "print_arr(a)"
      ],
      "execution_count": 38,
      "outputs": [
        {
          "output_type": "stream",
          "text": [
            "tensor([[1., 1., 1., 1., 0.],\n",
            "        [1., 1., 1., 1., 1.],\n",
            "        [1., 1., 1., 1., 1.]]) <shape: torch.Size([3, 5])> <dtype: torch.float32>\n"
          ],
          "name": "stdout"
        }
      ]
    },
    {
      "cell_type": "code",
      "metadata": {
        "id": "VqEfj7tuTAqK",
        "colab_type": "code",
        "outputId": "824b6181-c34a-435f-b1e1-78ddcaaa9947",
        "colab": {
          "base_uri": "https://localhost:8080/",
          "height": 102
        }
      },
      "source": [
        "a.transpose(1, 0)  # Swap dimension 1 and 0"
      ],
      "execution_count": 39,
      "outputs": [
        {
          "output_type": "execute_result",
          "data": {
            "text/plain": [
              "tensor([[1., 1., 1.],\n",
              "        [1., 1., 1.],\n",
              "        [1., 1., 1.],\n",
              "        [1., 1., 1.],\n",
              "        [0., 1., 1.]])"
            ]
          },
          "metadata": {
            "tags": []
          },
          "execution_count": 39
        }
      ]
    },
    {
      "cell_type": "code",
      "metadata": {
        "id": "9wvUahrTS9uJ",
        "colab_type": "code",
        "outputId": "099541a1-d721-46bc-af52-a17a420913e2",
        "colab": {
          "base_uri": "https://localhost:8080/",
          "height": 102
        }
      },
      "source": [
        "torch.einsum('ij -> ji', a)"
      ],
      "execution_count": 40,
      "outputs": [
        {
          "output_type": "execute_result",
          "data": {
            "text/plain": [
              "tensor([[1., 1., 1.],\n",
              "        [1., 1., 1.],\n",
              "        [1., 1., 1.],\n",
              "        [1., 1., 1.],\n",
              "        [0., 1., 1.]])"
            ]
          },
          "metadata": {
            "tags": []
          },
          "execution_count": 40
        }
      ]
    },
    {
      "cell_type": "code",
      "metadata": {
        "id": "Sww5AtujTPiJ",
        "colab_type": "code",
        "outputId": "fc3e7393-f641-4905-de3b-2dc86d45f61d",
        "colab": {
          "base_uri": "https://localhost:8080/",
          "height": 136
        }
      },
      "source": [
        "# It is possible to transpose in k-dimensions\n",
        "a = torch.ones((2, 3, 6))\n",
        "a[1, 2, 4] = 42\n",
        "print_arr(a)"
      ],
      "execution_count": 41,
      "outputs": [
        {
          "output_type": "stream",
          "text": [
            "tensor([[[ 1.,  1.,  1.,  1.,  1.,  1.],\n",
            "         [ 1.,  1.,  1.,  1.,  1.,  1.],\n",
            "         [ 1.,  1.,  1.,  1.,  1.,  1.]],\n",
            "\n",
            "        [[ 1.,  1.,  1.,  1.,  1.,  1.],\n",
            "         [ 1.,  1.,  1.,  1.,  1.,  1.],\n",
            "         [ 1.,  1.,  1.,  1., 42.,  1.]]]) <shape: torch.Size([2, 3, 6])> <dtype: torch.float32>\n"
          ],
          "name": "stdout"
        }
      ]
    },
    {
      "cell_type": "code",
      "metadata": {
        "id": "bFezEV5uTc1W",
        "colab_type": "code",
        "outputId": "e11d3ecb-a4b6-433a-8082-703150eab061",
        "colab": {
          "base_uri": "https://localhost:8080/",
          "height": 238
        }
      },
      "source": [
        "a.transpose(2, 1)"
      ],
      "execution_count": 42,
      "outputs": [
        {
          "output_type": "execute_result",
          "data": {
            "text/plain": [
              "tensor([[[ 1.,  1.,  1.],\n",
              "         [ 1.,  1.,  1.],\n",
              "         [ 1.,  1.,  1.],\n",
              "         [ 1.,  1.,  1.],\n",
              "         [ 1.,  1.,  1.],\n",
              "         [ 1.,  1.,  1.]],\n",
              "\n",
              "        [[ 1.,  1.,  1.],\n",
              "         [ 1.,  1.,  1.],\n",
              "         [ 1.,  1.,  1.],\n",
              "         [ 1.,  1.,  1.],\n",
              "         [ 1.,  1., 42.],\n",
              "         [ 1.,  1.,  1.]]])"
            ]
          },
          "metadata": {
            "tags": []
          },
          "execution_count": 42
        }
      ]
    },
    {
      "cell_type": "code",
      "metadata": {
        "id": "pIYTVMyRUC1e",
        "colab_type": "code",
        "outputId": "dcab28b1-d9e1-418b-e59f-2ea1a5c7dac4",
        "colab": {
          "base_uri": "https://localhost:8080/",
          "height": 238
        }
      },
      "source": [
        "torch.einsum('ijk->ikj', a)"
      ],
      "execution_count": 43,
      "outputs": [
        {
          "output_type": "execute_result",
          "data": {
            "text/plain": [
              "tensor([[[ 1.,  1.,  1.],\n",
              "         [ 1.,  1.,  1.],\n",
              "         [ 1.,  1.,  1.],\n",
              "         [ 1.,  1.,  1.],\n",
              "         [ 1.,  1.,  1.],\n",
              "         [ 1.,  1.,  1.]],\n",
              "\n",
              "        [[ 1.,  1.,  1.],\n",
              "         [ 1.,  1.,  1.],\n",
              "         [ 1.,  1.,  1.],\n",
              "         [ 1.,  1.,  1.],\n",
              "         [ 1.,  1., 42.],\n",
              "         [ 1.,  1.,  1.]]])"
            ]
          },
          "metadata": {
            "tags": []
          },
          "execution_count": 43
        }
      ]
    },
    {
      "cell_type": "markdown",
      "metadata": {
        "id": "a9Jshcp9Ul5O",
        "colab_type": "text"
      },
      "source": [
        "> **NOTE**\n",
        ">\n",
        "> In Numpy the transpose function is different!"
      ]
    },
    {
      "cell_type": "code",
      "metadata": {
        "id": "K9ktDbO5Uswj",
        "colab_type": "code",
        "outputId": "170a8f48-3f68-4121-ff24-63798eea8be9",
        "colab": {
          "base_uri": "https://localhost:8080/",
          "height": 51
        }
      },
      "source": [
        "a = np.arange(10).reshape(2, 5)\n",
        "a"
      ],
      "execution_count": 44,
      "outputs": [
        {
          "output_type": "execute_result",
          "data": {
            "text/plain": [
              "array([[0, 1, 2, 3, 4],\n",
              "       [5, 6, 7, 8, 9]])"
            ]
          },
          "metadata": {
            "tags": []
          },
          "execution_count": 44
        }
      ]
    },
    {
      "cell_type": "code",
      "metadata": {
        "id": "8LLh0Qd7U2xT",
        "colab_type": "code",
        "outputId": "e88abc53-da84-42a3-8f6b-ed847375726e",
        "colab": {
          "base_uri": "https://localhost:8080/",
          "height": 51
        }
      },
      "source": [
        "a.transpose(0, 1)"
      ],
      "execution_count": 45,
      "outputs": [
        {
          "output_type": "execute_result",
          "data": {
            "text/plain": [
              "array([[0, 1, 2, 3, 4],\n",
              "       [5, 6, 7, 8, 9]])"
            ]
          },
          "metadata": {
            "tags": []
          },
          "execution_count": 45
        }
      ]
    },
    {
      "cell_type": "code",
      "metadata": {
        "id": "4XA2bi18Uyox",
        "colab_type": "code",
        "outputId": "bc66be3d-df3d-4d2b-8dd5-713b62c9b6bb",
        "colab": {
          "base_uri": "https://localhost:8080/",
          "height": 102
        }
      },
      "source": [
        "a.transpose(1, 0)"
      ],
      "execution_count": 46,
      "outputs": [
        {
          "output_type": "execute_result",
          "data": {
            "text/plain": [
              "array([[0, 5],\n",
              "       [1, 6],\n",
              "       [2, 7],\n",
              "       [3, 8],\n",
              "       [4, 9]])"
            ]
          },
          "metadata": {
            "tags": []
          },
          "execution_count": 46
        }
      ]
    },
    {
      "cell_type": "code",
      "metadata": {
        "id": "fsU83yRwU9VW",
        "colab_type": "code",
        "outputId": "256ea379-9b2b-46b1-d755-c6d310d305be",
        "colab": {
          "base_uri": "https://localhost:8080/",
          "height": 102
        }
      },
      "source": [
        "np.einsum('ij -> ji', a)"
      ],
      "execution_count": 47,
      "outputs": [
        {
          "output_type": "execute_result",
          "data": {
            "text/plain": [
              "array([[0, 5],\n",
              "       [1, 6],\n",
              "       [2, 7],\n",
              "       [3, 8],\n",
              "       [4, 9]])"
            ]
          },
          "metadata": {
            "tags": []
          },
          "execution_count": 47
        }
      ]
    },
    {
      "cell_type": "markdown",
      "metadata": {
        "id": "RWaicg6uVIXQ",
        "colab_type": "text"
      },
      "source": [
        "#### **Reshape**\n",
        "\n",
        "Another important feature is **reshaping** a tensor into different dimensions\n",
        "\n",
        "- We need to make sure to **preserve the same number of elements**. \n",
        "- Use `-1` in one of the dimensions to tell numpy to **figure it out**.\n"
      ]
    },
    {
      "cell_type": "markdown",
      "metadata": {
        "id": "L5uTNjKI15kx",
        "colab_type": "text"
      },
      "source": [
        "Pay attention that **transposing and reshaping are two fundamentally different operations**:"
      ]
    },
    {
      "cell_type": "code",
      "metadata": {
        "id": "W01aXqIZwfCu",
        "colab_type": "code",
        "outputId": "f729f3e7-be26-4650-ecaa-73243c05063b",
        "colab": {
          "base_uri": "https://localhost:8080/",
          "height": 68
        }
      },
      "source": [
        "a = torch.arange(12).reshape(3,4 )\n",
        "a"
      ],
      "execution_count": 48,
      "outputs": [
        {
          "output_type": "execute_result",
          "data": {
            "text/plain": [
              "tensor([[ 0,  1,  2,  3],\n",
              "        [ 4,  5,  6,  7],\n",
              "        [ 8,  9, 10, 11]])"
            ]
          },
          "metadata": {
            "tags": []
          },
          "execution_count": 48
        }
      ]
    },
    {
      "cell_type": "code",
      "metadata": {
        "id": "c67xp19WwmGP",
        "colab_type": "code",
        "outputId": "205ad322-f736-43a8-b843-7ea2753b7886",
        "colab": {
          "base_uri": "https://localhost:8080/",
          "height": 85
        }
      },
      "source": [
        "# The classical transpose\n",
        "a.t()"
      ],
      "execution_count": 49,
      "outputs": [
        {
          "output_type": "execute_result",
          "data": {
            "text/plain": [
              "tensor([[ 0,  4,  8],\n",
              "        [ 1,  5,  9],\n",
              "        [ 2,  6, 10],\n",
              "        [ 3,  7, 11]])"
            ]
          },
          "metadata": {
            "tags": []
          },
          "execution_count": 49
        }
      ]
    },
    {
      "cell_type": "code",
      "metadata": {
        "id": "EenpJs6gwoLd",
        "colab_type": "code",
        "outputId": "97cb6be5-e7f8-4f8e-be26-99e05a1878ec",
        "colab": {
          "base_uri": "https://localhost:8080/",
          "height": 85
        }
      },
      "source": [
        "# Reshape into the transpose shape\n",
        "a.reshape(4, 3)"
      ],
      "execution_count": 50,
      "outputs": [
        {
          "output_type": "execute_result",
          "data": {
            "text/plain": [
              "tensor([[ 0,  1,  2],\n",
              "        [ 3,  4,  5],\n",
              "        [ 6,  7,  8],\n",
              "        [ 9, 10, 11]])"
            ]
          },
          "metadata": {
            "tags": []
          },
          "execution_count": 50
        }
      ]
    },
    {
      "cell_type": "markdown",
      "metadata": {
        "id": "wJPn4ArY2Q6E",
        "colab_type": "text"
      },
      "source": [
        "Think of the `reshape` operations as unrolling the tensor **row-wise**, to obtain a rank-1 tensor. Then organize the values in this tensor following the specified dimensions.\n",
        "\n",
        "```\n",
        "tensor([[ 0,  1,  2,  3],\n",
        "        [ 4,  5,  6,  7],\n",
        "        [ 8,  9, 10, 11]])\n",
        "```\n",
        "$ \\to $\n",
        "```\n",
        "tensor([ 0,  1,  2,  3,  4,  5,  6,  7,  8,  9, 10, 11])\n",
        "```\n",
        "\n",
        "Then, starting from the right-most dimension's size, organize the values into the dimensions\n",
        "\n",
        "- e.g. reshape into `[4, 3]`:\n",
        "```\n",
        "tensor([ 0,  1,  2,  3,  4,  5,  6,  7,  8,  9, 10, 11])\n",
        "```\n",
        "$ \\to $\n",
        "```\n",
        "tensor([[0,  1,  2],  [3,  4,  5],  [6,  7,  8],  [9, 10, 11]])\n",
        "```\n",
        "$ \\to $\n",
        "```\n",
        "tensor([[ 0,  1,  2],\n",
        "        [ 3,  4,  5],\n",
        "        [ 6,  7,  8],\n",
        "        [ 9, 10, 11]])\n",
        "```\n",
        "\n",
        "- e.g. reshape into `[2, 2, 3]`:\n",
        "```\n",
        "tensor([ 0,  1,  2,  3,  4,  5,  6,  7,  8,  9, 10, 11])\n",
        "```\n",
        "$ \\to $\n",
        "```\n",
        "tensor([[0,  1,  2],  [3,  4,  5],  [6,  7,  8],  [9, 10, 11]])\n",
        "```\n",
        "$ \\to $\n",
        "```\n",
        "tensor([[[0,  1,  2],  [3,  4,  5]],  [[6,  7,  8],  [9, 10, 11]]])\n",
        "```\n",
        "$ \\to $\n",
        "```\n",
        "tensor([[[ 0,  1,  2],\n",
        "         [ 3,  4,  5]],\n",
        "\n",
        "        [[ 6,  7,  8],\n",
        "         [ 9, 10, 11]]])\n",
        "```"
      ]
    },
    {
      "cell_type": "code",
      "metadata": {
        "id": "U3U_yh07Vf7m",
        "colab_type": "code",
        "outputId": "7aa54087-986b-4435-bc3a-e04da62f4535",
        "colab": {
          "base_uri": "https://localhost:8080/",
          "height": 54
        }
      },
      "source": [
        "a = torch.arange(12)\n",
        "print_arr(a)"
      ],
      "execution_count": 51,
      "outputs": [
        {
          "output_type": "stream",
          "text": [
            "tensor([ 0,  1,  2,  3,  4,  5,  6,  7,  8,  9, 10, 11]) <shape: torch.Size([12])> <dtype: torch.int64>\n"
          ],
          "name": "stdout"
        }
      ]
    },
    {
      "cell_type": "code",
      "metadata": {
        "id": "_mqUJve9VjUQ",
        "colab_type": "code",
        "outputId": "4e039839-ac8b-4d2c-9595-ffb96ccf7a68",
        "colab": {
          "base_uri": "https://localhost:8080/",
          "height": 119
        }
      },
      "source": [
        "a.reshape(6, 2)"
      ],
      "execution_count": 52,
      "outputs": [
        {
          "output_type": "execute_result",
          "data": {
            "text/plain": [
              "tensor([[ 0,  1],\n",
              "        [ 2,  3],\n",
              "        [ 4,  5],\n",
              "        [ 6,  7],\n",
              "        [ 8,  9],\n",
              "        [10, 11]])"
            ]
          },
          "metadata": {
            "tags": []
          },
          "execution_count": 52
        }
      ]
    },
    {
      "cell_type": "code",
      "metadata": {
        "id": "i-qtMeW0VnTu",
        "colab_type": "code",
        "outputId": "00232de7-399d-4ed6-a76e-e3105d5225e1",
        "colab": {
          "base_uri": "https://localhost:8080/",
          "height": 51
        }
      },
      "source": [
        "a.reshape(2, 6)"
      ],
      "execution_count": 53,
      "outputs": [
        {
          "output_type": "execute_result",
          "data": {
            "text/plain": [
              "tensor([[ 0,  1,  2,  3,  4,  5],\n",
              "        [ 6,  7,  8,  9, 10, 11]])"
            ]
          },
          "metadata": {
            "tags": []
          },
          "execution_count": 53
        }
      ]
    },
    {
      "cell_type": "code",
      "metadata": {
        "id": "S9miZ3XUqxvc",
        "colab_type": "code",
        "outputId": "89a5e797-a8fe-4333-ff49-65dd3e1c1c43",
        "colab": {
          "base_uri": "https://localhost:8080/",
          "height": 102
        }
      },
      "source": [
        "a.reshape(2, 2, 3)"
      ],
      "execution_count": 54,
      "outputs": [
        {
          "output_type": "execute_result",
          "data": {
            "text/plain": [
              "tensor([[[ 0,  1,  2],\n",
              "         [ 3,  4,  5]],\n",
              "\n",
              "        [[ 6,  7,  8],\n",
              "         [ 9, 10, 11]]])"
            ]
          },
          "metadata": {
            "tags": []
          },
          "execution_count": 54
        }
      ]
    },
    {
      "cell_type": "code",
      "metadata": {
        "id": "1rUiVJQgWibl",
        "colab_type": "code",
        "outputId": "5cf0731e-450a-41e3-a8b0-d032687040aa",
        "colab": {
          "base_uri": "https://localhost:8080/",
          "height": 34
        }
      },
      "source": [
        "try:\n",
        "  a.reshape(5, -1)\n",
        "except RuntimeError as e:\n",
        "  print(e)"
      ],
      "execution_count": 55,
      "outputs": [
        {
          "output_type": "stream",
          "text": [
            "shape '[5, -1]' is invalid for input of size 12\n"
          ],
          "name": "stdout"
        }
      ]
    },
    {
      "cell_type": "code",
      "metadata": {
        "id": "9STd1HDBWkym",
        "colab_type": "code",
        "outputId": "882f4e72-8442-4342-dff8-03c852f613fd",
        "colab": {
          "base_uri": "https://localhost:8080/",
          "height": 34
        }
      },
      "source": [
        "a.reshape(1, -1)"
      ],
      "execution_count": 56,
      "outputs": [
        {
          "output_type": "execute_result",
          "data": {
            "text/plain": [
              "tensor([[ 0,  1,  2,  3,  4,  5,  6,  7,  8,  9, 10, 11]])"
            ]
          },
          "metadata": {
            "tags": []
          },
          "execution_count": 56
        }
      ]
    },
    {
      "cell_type": "code",
      "metadata": {
        "id": "-zjpBpctWr-D",
        "colab_type": "code",
        "outputId": "84cc22cd-d939-45c7-8fae-9826ce68ab87",
        "colab": {
          "base_uri": "https://localhost:8080/",
          "height": 221
        }
      },
      "source": [
        "a.reshape(-1, 1)"
      ],
      "execution_count": 57,
      "outputs": [
        {
          "output_type": "execute_result",
          "data": {
            "text/plain": [
              "tensor([[ 0],\n",
              "        [ 1],\n",
              "        [ 2],\n",
              "        [ 3],\n",
              "        [ 4],\n",
              "        [ 5],\n",
              "        [ 6],\n",
              "        [ 7],\n",
              "        [ 8],\n",
              "        [ 9],\n",
              "        [10],\n",
              "        [11]])"
            ]
          },
          "metadata": {
            "tags": []
          },
          "execution_count": 57
        }
      ]
    },
    {
      "cell_type": "code",
      "metadata": {
        "id": "qWpSkDFAWo_Q",
        "colab_type": "code",
        "outputId": "5193f6bc-69f6-43a7-c096-3f4ef8c023f4",
        "colab": {
          "base_uri": "https://localhost:8080/",
          "height": 34
        }
      },
      "source": [
        "a.reshape(-1)"
      ],
      "execution_count": 58,
      "outputs": [
        {
          "output_type": "execute_result",
          "data": {
            "text/plain": [
              "tensor([ 0,  1,  2,  3,  4,  5,  6,  7,  8,  9, 10, 11])"
            ]
          },
          "metadata": {
            "tags": []
          },
          "execution_count": 58
        }
      ]
    },
    {
      "cell_type": "markdown",
      "metadata": {
        "id": "RS6Bg3gg-X-F",
        "colab_type": "text"
      },
      "source": [
        "> **NOTE**\n",
        ">\n",
        "> We can add or remove dimensions of size `1` using `torch.unsqueeze` or `torch.squeeze`"
      ]
    },
    {
      "cell_type": "markdown",
      "metadata": {
        "id": "OYWdXFvqrbqS",
        "colab_type": "text"
      },
      "source": [
        "> **NOTE**\n",
        ">\n",
        "> If you want to be sure to obtain a reshaped view of the tensor, sharing the same underlying data avoiding copying data, you can use the `torch.view` method.\n",
        "> It's semantic is similar to `reshape`, but it works only on `contiguous` tensors and it guarantees that no copy will be performed."
      ]
    },
    {
      "cell_type": "markdown",
      "metadata": {
        "id": "zjvDvo4yXAk-",
        "colab_type": "text"
      },
      "source": [
        "#### **Concatenation**\n",
        "\n",
        "PyTorch provides many functions to manipulate tensors. \n",
        "Two of the most common functions are:\n",
        "\n",
        "- `torch.stack`: Concatenates sequence of tensors along a new dimension.\n",
        "- `torch.cat`: Concatenates the given sequence of seq tensors in the given dimension."
      ]
    },
    {
      "cell_type": "code",
      "metadata": {
        "id": "Oq1IMbFvXLPk",
        "colab_type": "code",
        "outputId": "2fd78ed2-2058-4631-d238-d656427c2bd9",
        "colab": {
          "base_uri": "https://localhost:8080/",
          "height": 136
        }
      },
      "source": [
        "a = torch.arange(12).reshape(3, 4)\n",
        "b = torch.arange(12).reshape(3, 4) + 100\n",
        "print_arr(a, b)"
      ],
      "execution_count": 59,
      "outputs": [
        {
          "output_type": "stream",
          "text": [
            "tensor([[ 0,  1,  2,  3],\n",
            "        [ 4,  5,  6,  7],\n",
            "        [ 8,  9, 10, 11]]) <shape: torch.Size([3, 4])> <dtype: torch.int64>\n",
            "\n",
            "tensor([[100, 101, 102, 103],\n",
            "        [104, 105, 106, 107],\n",
            "        [108, 109, 110, 111]]) <shape: torch.Size([3, 4])> <dtype: torch.int64>\n"
          ],
          "name": "stdout"
        }
      ]
    },
    {
      "cell_type": "code",
      "metadata": {
        "id": "EsyXtEm4XRf1",
        "colab_type": "code",
        "outputId": "591d9ca8-beb0-4a56-fe93-23ae509f676c",
        "colab": {
          "base_uri": "https://localhost:8080/",
          "height": 119
        }
      },
      "source": [
        "out = torch.cat((a, b), dim=0)\n",
        "print_arr(out)"
      ],
      "execution_count": 60,
      "outputs": [
        {
          "output_type": "stream",
          "text": [
            "tensor([[  0,   1,   2,   3],\n",
            "        [  4,   5,   6,   7],\n",
            "        [  8,   9,  10,  11],\n",
            "        [100, 101, 102, 103],\n",
            "        [104, 105, 106, 107],\n",
            "        [108, 109, 110, 111]]) <shape: torch.Size([6, 4])> <dtype: torch.int64>\n"
          ],
          "name": "stdout"
        }
      ]
    },
    {
      "cell_type": "code",
      "metadata": {
        "id": "0k47GtMRX79a",
        "colab_type": "code",
        "outputId": "7e5c2a13-2e46-4117-f493-3423f770a3e8",
        "colab": {
          "base_uri": "https://localhost:8080/",
          "height": 136
        }
      },
      "source": [
        "out = torch.stack((a, b), dim=0)\n",
        "print_arr(out)"
      ],
      "execution_count": 61,
      "outputs": [
        {
          "output_type": "stream",
          "text": [
            "tensor([[[  0,   1,   2,   3],\n",
            "         [  4,   5,   6,   7],\n",
            "         [  8,   9,  10,  11]],\n",
            "\n",
            "        [[100, 101, 102, 103],\n",
            "         [104, 105, 106, 107],\n",
            "         [108, 109, 110, 111]]]) <shape: torch.Size([2, 3, 4])> <dtype: torch.int64>\n"
          ],
          "name": "stdout"
        }
      ]
    },
    {
      "cell_type": "markdown",
      "metadata": {
        "id": "VYocF4AUBJN4",
        "colab_type": "text"
      },
      "source": [
        "> **EXERCISE**\n",
        ">\n",
        "> Given a rank-1 array of increasing numbers from `0` to `9`, defined as:\n",
        ">"
      ]
    },
    {
      "cell_type": "code",
      "metadata": {
        "id": "leLESEEVD-Eq",
        "colab_type": "code",
        "outputId": "b4f066ae-13d6-4c3e-fe61-9e94009a0f40",
        "colab": {
          "base_uri": "https://localhost:8080/",
          "height": 34
        }
      },
      "source": [
        "a = torch.arange(10)\n",
        "a"
      ],
      "execution_count": 62,
      "outputs": [
        {
          "output_type": "execute_result",
          "data": {
            "text/plain": [
              "tensor([0, 1, 2, 3, 4, 5, 6, 7, 8, 9])"
            ]
          },
          "metadata": {
            "tags": []
          },
          "execution_count": 62
        }
      ]
    },
    {
      "cell_type": "markdown",
      "metadata": {
        "id": "zRz1C_TRD_cL",
        "colab_type": "text"
      },
      "source": [
        "> Use only the `reshape` and `transpose` function to obtain the following tensor from `a`:\n",
        ">\n",
        "> ```python\n",
        "> tensor([[0, 2, 4, 6, 8],\n",
        ">         [1, 3, 5, 7, 9]])\n",
        "> ```"
      ]
    },
    {
      "cell_type": "code",
      "metadata": {
        "id": "0OpbO_nvoVCf",
        "colab_type": "code",
        "outputId": "d6bd0137-c50d-4319-9d27-da7e6869a1d0",
        "colab": {
          "base_uri": "https://localhost:8080/",
          "height": 51
        }
      },
      "source": [
        "a.reshape(5, 2).t()"
      ],
      "execution_count": 63,
      "outputs": [
        {
          "output_type": "execute_result",
          "data": {
            "text/plain": [
              "tensor([[0, 2, 4, 6, 8],\n",
              "        [1, 3, 5, 7, 9]])"
            ]
          },
          "metadata": {
            "tags": []
          },
          "execution_count": 63
        }
      ]
    },
    {
      "cell_type": "markdown",
      "metadata": {
        "id": "qHQFWwzCn8k7",
        "colab_type": "text"
      },
      "source": [
        "> **EXERCISE**\n",
        ">\n",
        "> Given a tensor $X \\in R^{3 \\times 5 \\times 8 \\times 10}$ reshape it in order to obtain a tensor $Y \\in R^{10 \\times 8 \\times 3 \\times 5}$\n"
      ]
    },
    {
      "cell_type": "code",
      "metadata": {
        "id": "PrMb_KB_ogMs",
        "colab_type": "code",
        "outputId": "4aa888e0-7976-4e32-babe-074abe6eea9e",
        "colab": {
          "base_uri": "https://localhost:8080/",
          "height": 34
        }
      },
      "source": [
        "a = torch.rand(3, 5, 8, 10)\n",
        "a.shape"
      ],
      "execution_count": 64,
      "outputs": [
        {
          "output_type": "execute_result",
          "data": {
            "text/plain": [
              "torch.Size([3, 5, 8, 10])"
            ]
          },
          "metadata": {
            "tags": []
          },
          "execution_count": 64
        }
      ]
    },
    {
      "cell_type": "code",
      "metadata": {
        "id": "OuYInRwYoqr5",
        "colab_type": "code",
        "outputId": "27bcef09-bece-4b23-edf8-1e14ddd48989",
        "colab": {
          "base_uri": "https://localhost:8080/",
          "height": 34
        }
      },
      "source": [
        "y = torch.einsum('abcd -> dcab', a)\n",
        "y.shape\n",
        "\n",
        "# a.reshape(10, 8, 3, 5) is wrong!"
      ],
      "execution_count": 65,
      "outputs": [
        {
          "output_type": "execute_result",
          "data": {
            "text/plain": [
              "torch.Size([10, 8, 3, 5])"
            ]
          },
          "metadata": {
            "tags": []
          },
          "execution_count": 65
        }
      ]
    },
    {
      "cell_type": "code",
      "metadata": {
        "id": "AacuHbFFCP7G",
        "colab_type": "code",
        "outputId": "d4d38a86-115b-4483-e374-148131061a39",
        "colab": {
          "base_uri": "https://localhost:8080/",
          "height": 34
        }
      },
      "source": [
        "# If you want you can use multiple transpose...\n",
        "o = a.transpose(0, 3)\n",
        "o = o.transpose(-1, -2)\n",
        "o = o.transpose(1, -1)\n",
        "o.shape"
      ],
      "execution_count": 66,
      "outputs": [
        {
          "output_type": "execute_result",
          "data": {
            "text/plain": [
              "torch.Size([10, 8, 3, 5])"
            ]
          },
          "metadata": {
            "tags": []
          },
          "execution_count": 66
        }
      ]
    },
    {
      "cell_type": "code",
      "metadata": {
        "id": "FWMW24e7CaT5",
        "colab_type": "code",
        "outputId": "67785c1b-e346-4781-9ab5-bc93cfd55dc5",
        "colab": {
          "base_uri": "https://localhost:8080/",
          "height": 34
        }
      },
      "source": [
        "torch.equal(y, o)"
      ],
      "execution_count": 67,
      "outputs": [
        {
          "output_type": "execute_result",
          "data": {
            "text/plain": [
              "True"
            ]
          },
          "metadata": {
            "tags": []
          },
          "execution_count": 67
        }
      ]
    },
    {
      "cell_type": "markdown",
      "metadata": {
        "id": "QPHnbIH_rn_C",
        "colab_type": "text"
      },
      "source": [
        "### **Tensor indexing**\n",
        "\n",
        "PyTorch offers several ways to index tensors\n"
      ]
    },
    {
      "cell_type": "markdown",
      "metadata": {
        "id": "U68ToAl1r_dG",
        "colab_type": "text"
      },
      "source": [
        "#### **Standard indexing**\n",
        "\n",
        "As standard Python lists, PyTorch tensors support the python indexing convenctions:"
      ]
    },
    {
      "cell_type": "code",
      "metadata": {
        "id": "PWzGd3vYsb8e",
        "colab_type": "code",
        "outputId": "fdadac7e-2394-4456-841a-a3ba35504463",
        "colab": {
          "base_uri": "https://localhost:8080/",
          "height": 34
        }
      },
      "source": [
        "a = torch.arange(10)\n",
        "a"
      ],
      "execution_count": 68,
      "outputs": [
        {
          "output_type": "execute_result",
          "data": {
            "text/plain": [
              "tensor([0, 1, 2, 3, 4, 5, 6, 7, 8, 9])"
            ]
          },
          "metadata": {
            "tags": []
          },
          "execution_count": 68
        }
      ]
    },
    {
      "cell_type": "code",
      "metadata": {
        "id": "vTn3_9F3tAVl",
        "colab_type": "code",
        "outputId": "a149a89d-e2f7-4e7a-9cf5-fa7ec176d820",
        "colab": {
          "base_uri": "https://localhost:8080/",
          "height": 51
        }
      },
      "source": [
        "print(a[0])  # first element\n",
        "print(a[1])  # second element"
      ],
      "execution_count": 69,
      "outputs": [
        {
          "output_type": "stream",
          "text": [
            "tensor(0)\n",
            "tensor(1)\n"
          ],
          "name": "stdout"
        }
      ]
    },
    {
      "cell_type": "code",
      "metadata": {
        "id": "vDGstnvrs6wf",
        "colab_type": "code",
        "outputId": "55b653d2-47fb-4e72-941b-d9f65501058b",
        "colab": {
          "base_uri": "https://localhost:8080/",
          "height": 51
        }
      },
      "source": [
        "print(a[-1])  # last element\n",
        "print(a[-2])  # second last element"
      ],
      "execution_count": 70,
      "outputs": [
        {
          "output_type": "stream",
          "text": [
            "tensor(9)\n",
            "tensor(8)\n"
          ],
          "name": "stdout"
        }
      ]
    },
    {
      "cell_type": "markdown",
      "metadata": {
        "id": "t_uRKJqor2Ty",
        "colab_type": "text"
      },
      "source": [
        "#### **Multidimensional indexing**\n",
        "\n",
        "Since tensors may be multidimensional, you must specify **one index for each dimension**:"
      ]
    },
    {
      "cell_type": "code",
      "metadata": {
        "id": "4oSg1hGQtyT8",
        "colab_type": "code",
        "outputId": "7eccc7b3-39c1-49de-c794-7030d0ef21c7",
        "colab": {
          "base_uri": "https://localhost:8080/",
          "height": 51
        }
      },
      "source": [
        "a = torch.arange(10).reshape(2, 5)\n",
        "a"
      ],
      "execution_count": 71,
      "outputs": [
        {
          "output_type": "execute_result",
          "data": {
            "text/plain": [
              "tensor([[0, 1, 2, 3, 4],\n",
              "        [5, 6, 7, 8, 9]])"
            ]
          },
          "metadata": {
            "tags": []
          },
          "execution_count": 71
        }
      ]
    },
    {
      "cell_type": "code",
      "metadata": {
        "id": "p_d7tUsVuKNM",
        "colab_type": "code",
        "outputId": "97d4ea55-92e0-4002-f205-4426394d3098",
        "colab": {
          "base_uri": "https://localhost:8080/",
          "height": 34
        }
      },
      "source": [
        "a[0]"
      ],
      "execution_count": 72,
      "outputs": [
        {
          "output_type": "execute_result",
          "data": {
            "text/plain": [
              "tensor([0, 1, 2, 3, 4])"
            ]
          },
          "metadata": {
            "tags": []
          },
          "execution_count": 72
        }
      ]
    },
    {
      "cell_type": "code",
      "metadata": {
        "id": "6zErRdLjud3S",
        "colab_type": "code",
        "outputId": "dd5473fa-1ddf-4016-bc29-10e16844f4c4",
        "colab": {
          "base_uri": "https://localhost:8080/",
          "height": 34
        }
      },
      "source": [
        "a[1]"
      ],
      "execution_count": 73,
      "outputs": [
        {
          "output_type": "execute_result",
          "data": {
            "text/plain": [
              "tensor([5, 6, 7, 8, 9])"
            ]
          },
          "metadata": {
            "tags": []
          },
          "execution_count": 73
        }
      ]
    },
    {
      "cell_type": "code",
      "metadata": {
        "id": "j40QvNuLugWX",
        "colab_type": "code",
        "outputId": "2a4d63fe-9f89-4c74-8e1b-76daeb43c594",
        "colab": {
          "base_uri": "https://localhost:8080/",
          "height": 34
        }
      },
      "source": [
        "a[0, -1]"
      ],
      "execution_count": 74,
      "outputs": [
        {
          "output_type": "execute_result",
          "data": {
            "text/plain": [
              "tensor(4)"
            ]
          },
          "metadata": {
            "tags": []
          },
          "execution_count": 74
        }
      ]
    },
    {
      "cell_type": "markdown",
      "metadata": {
        "id": "XY76VPqCuhc1",
        "colab_type": "text"
      },
      "source": [
        "#### **Slicing**\n",
        "\n",
        "Similar to Python lists and Numpy arrays, PyTorch tensors can be easily sliced using the slice notation:\n",
        "\n",
        "```python\n",
        "a[start:stop]  # items start through stop-1\n",
        "a[start:]      # items start through the rest of the array\n",
        "a[:stop]       # items from the beginning through stop-1\n",
        "a[:]           # a copy of the whole array\n",
        "```\n",
        "\n",
        "There is also the step value, which can be used with any of the above:\n",
        "\n",
        "```python\n",
        "a[start:stop:step] # start through not past stop, by step\n",
        "```"
      ]
    },
    {
      "cell_type": "code",
      "metadata": {
        "id": "ku-xaZ7LvjR5",
        "colab_type": "code",
        "outputId": "e2a4832b-b6a5-4ed4-e670-cbf11b8fc71a",
        "colab": {
          "base_uri": "https://localhost:8080/",
          "height": 34
        }
      },
      "source": [
        "a = torch.arange(10)\n",
        "a"
      ],
      "execution_count": 75,
      "outputs": [
        {
          "output_type": "execute_result",
          "data": {
            "text/plain": [
              "tensor([0, 1, 2, 3, 4, 5, 6, 7, 8, 9])"
            ]
          },
          "metadata": {
            "tags": []
          },
          "execution_count": 75
        }
      ]
    },
    {
      "cell_type": "code",
      "metadata": {
        "id": "aut0rgIEwIG_",
        "colab_type": "code",
        "outputId": "417f6857-e3ec-4cbe-d5bb-d4c772c783dd",
        "colab": {
          "base_uri": "https://localhost:8080/",
          "height": 34
        }
      },
      "source": [
        "# Take the last 5 elements\n",
        "a[-5:]"
      ],
      "execution_count": 76,
      "outputs": [
        {
          "output_type": "execute_result",
          "data": {
            "text/plain": [
              "tensor([5, 6, 7, 8, 9])"
            ]
          },
          "metadata": {
            "tags": []
          },
          "execution_count": 76
        }
      ]
    },
    {
      "cell_type": "code",
      "metadata": {
        "id": "UZ3vLffywvQt",
        "colab_type": "code",
        "outputId": "2e3eea24-ddbd-4f2f-c39d-7e9f0b88ff77",
        "colab": {
          "base_uri": "https://localhost:8080/",
          "height": 34
        }
      },
      "source": [
        "# Index every element in a even index\n",
        "a[::2]"
      ],
      "execution_count": 77,
      "outputs": [
        {
          "output_type": "execute_result",
          "data": {
            "text/plain": [
              "tensor([0, 2, 4, 6, 8])"
            ]
          },
          "metadata": {
            "tags": []
          },
          "execution_count": 77
        }
      ]
    },
    {
      "cell_type": "markdown",
      "metadata": {
        "id": "TjIcC1HqwvU1",
        "colab_type": "text"
      },
      "source": [
        "> **NOTE**\n",
        ">\n",
        "> Remember that the **slice syntax** is just a shortand.\n",
        ">\n",
        "> In Python everything is an object, even a ``slice``.\n",
        "> It is possible to explicitly create a ``Slice`` object and reuse it to **index multiple tensors in the same way**:\n",
        "\n",
        "\n",
        "\n"
      ]
    },
    {
      "cell_type": "code",
      "metadata": {
        "id": "3D8qk7q0xUAb",
        "colab_type": "code",
        "outputId": "8bc2f5f9-c4a8-4338-fa79-3410ded76edf",
        "colab": {
          "base_uri": "https://localhost:8080/",
          "height": 34
        }
      },
      "source": [
        "# The signature follows the same pattern as above\n",
        "s1 = slice(3)  # equivalent to the slice :3\n",
        "s1"
      ],
      "execution_count": 78,
      "outputs": [
        {
          "output_type": "execute_result",
          "data": {
            "text/plain": [
              "slice(None, 3, None)"
            ]
          },
          "metadata": {
            "tags": []
          },
          "execution_count": 78
        }
      ]
    },
    {
      "cell_type": "code",
      "metadata": {
        "id": "fMqp5ZCEp8uu",
        "colab_type": "code",
        "outputId": "a3eccc14-eea0-4155-96f8-6ffb424e3552",
        "colab": {
          "base_uri": "https://localhost:8080/",
          "height": 34
        }
      },
      "source": [
        "type(s1)  # It is a built-in type"
      ],
      "execution_count": 79,
      "outputs": [
        {
          "output_type": "execute_result",
          "data": {
            "text/plain": [
              "slice"
            ]
          },
          "metadata": {
            "tags": []
          },
          "execution_count": 79
        }
      ]
    },
    {
      "cell_type": "code",
      "metadata": {
        "id": "JIxqkduyp470",
        "colab_type": "code",
        "outputId": "1efe15ea-2332-4b75-fbc6-95ccf60cc6ee",
        "colab": {
          "base_uri": "https://localhost:8080/",
          "height": 68
        }
      },
      "source": [
        "out = a[s1]  # equivalent to a[:3]\n",
        "\n",
        "print_arr(a, out)"
      ],
      "execution_count": 80,
      "outputs": [
        {
          "output_type": "stream",
          "text": [
            "tensor([0, 1, 2, 3, 4, 5, 6, 7, 8, 9]) <shape: torch.Size([10])> <dtype: torch.int64>\n",
            "\n",
            "tensor([0, 1, 2]) <shape: torch.Size([3])> <dtype: torch.int64>\n"
          ],
          "name": "stdout"
        }
      ]
    },
    {
      "cell_type": "code",
      "metadata": {
        "id": "JWr9dLVqxziR",
        "colab_type": "code",
        "outputId": "4b8a78b8-7f41-4e12-b6f0-c1ad31f91f06",
        "colab": {
          "base_uri": "https://localhost:8080/",
          "height": 34
        }
      },
      "source": [
        "mystring = 'this is just a string'\n",
        "mystring[s1]"
      ],
      "execution_count": 81,
      "outputs": [
        {
          "output_type": "execute_result",
          "data": {
            "text/plain": [
              "'thi'"
            ]
          },
          "metadata": {
            "tags": []
          },
          "execution_count": 81
        }
      ]
    },
    {
      "cell_type": "code",
      "metadata": {
        "id": "RNehWUQn2t4H",
        "colab_type": "code",
        "outputId": "7c5445f2-8b7c-4171-965c-e303e58721ec",
        "colab": {
          "base_uri": "https://localhost:8080/",
          "height": 34
        }
      },
      "source": [
        "s2 = slice(None, None, -1)\n",
        "mystring[s2] "
      ],
      "execution_count": 82,
      "outputs": [
        {
          "output_type": "execute_result",
          "data": {
            "text/plain": [
              "'gnirts a tsuj si siht'"
            ]
          },
          "metadata": {
            "tags": []
          },
          "execution_count": 82
        }
      ]
    },
    {
      "cell_type": "code",
      "metadata": {
        "id": "XvkH5XOCyJQx",
        "colab_type": "code",
        "outputId": "c3442ca2-2907-4746-de1f-94025a52fd70",
        "colab": {
          "base_uri": "https://localhost:8080/",
          "height": 34
        }
      },
      "source": [
        "try:\n",
        "  a[s2]  # PyTorch currently does not support negative steps\n",
        "except ValueError as e:\n",
        "  print(e)"
      ],
      "execution_count": 83,
      "outputs": [
        {
          "output_type": "stream",
          "text": [
            "negative step not yet supported\n"
          ],
          "name": "stdout"
        }
      ]
    },
    {
      "cell_type": "markdown",
      "metadata": {
        "id": "lMgTjK6yyRCl",
        "colab_type": "text"
      },
      "source": [
        "With multidimensional tensors we can perform **multidimensional slicing**:"
      ]
    },
    {
      "cell_type": "code",
      "metadata": {
        "id": "ZJYcchmxykd6",
        "colab_type": "code",
        "outputId": "f6bb79ef-6119-42b4-a572-d0fed2379bf0",
        "colab": {
          "base_uri": "https://localhost:8080/",
          "height": 51
        }
      },
      "source": [
        "a = torch.arange(10).reshape(2, 5)\n",
        "a"
      ],
      "execution_count": 84,
      "outputs": [
        {
          "output_type": "execute_result",
          "data": {
            "text/plain": [
              "tensor([[0, 1, 2, 3, 4],\n",
              "        [5, 6, 7, 8, 9]])"
            ]
          },
          "metadata": {
            "tags": []
          },
          "execution_count": 84
        }
      ]
    },
    {
      "cell_type": "code",
      "metadata": {
        "id": "gkhWYbVHyq-H",
        "colab_type": "code",
        "outputId": "18774f86-5326-4d10-e5c2-476107f69834",
        "colab": {
          "base_uri": "https://localhost:8080/",
          "height": 34
        }
      },
      "source": [
        "# Take the second column\n",
        "a[:, 1]"
      ],
      "execution_count": 85,
      "outputs": [
        {
          "output_type": "execute_result",
          "data": {
            "text/plain": [
              "tensor([1, 6])"
            ]
          },
          "metadata": {
            "tags": []
          },
          "execution_count": 85
        }
      ]
    },
    {
      "cell_type": "code",
      "metadata": {
        "id": "5PzkxXpdyMoL",
        "colab_type": "code",
        "outputId": "d98f179f-28e1-4c3d-9405-eade92289a3f",
        "colab": {
          "base_uri": "https://localhost:8080/",
          "height": 34
        }
      },
      "source": [
        "# Take the last column\n",
        "a[:, -1]"
      ],
      "execution_count": 86,
      "outputs": [
        {
          "output_type": "execute_result",
          "data": {
            "text/plain": [
              "tensor([4, 9])"
            ]
          },
          "metadata": {
            "tags": []
          },
          "execution_count": 86
        }
      ]
    },
    {
      "cell_type": "code",
      "metadata": {
        "id": "7q0GVL_YxVRK",
        "colab_type": "code",
        "outputId": "b295fccc-87c6-438f-e55e-c12643ad39fb",
        "colab": {
          "base_uri": "https://localhost:8080/",
          "height": 34
        }
      },
      "source": [
        "# Take a slice from the last row\n",
        "a[-1, -3:]"
      ],
      "execution_count": 87,
      "outputs": [
        {
          "output_type": "execute_result",
          "data": {
            "text/plain": [
              "tensor([7, 8, 9])"
            ]
          },
          "metadata": {
            "tags": []
          },
          "execution_count": 87
        }
      ]
    },
    {
      "cell_type": "markdown",
      "metadata": {
        "id": "Z6oeDEvEzvhQ",
        "colab_type": "text"
      },
      "source": [
        "You can **assign** to sliced tensors, modifying the original tensor.\n",
        "\n",
        "Actually, indexing and slicing operations do their best to return tensors that **share the underlying data** with the original tensor."
      ]
    },
    {
      "cell_type": "code",
      "metadata": {
        "id": "R2XdMXUUzLFV",
        "colab_type": "code",
        "outputId": "8af1883d-98c9-4a23-d879-b32797effb17",
        "colab": {
          "base_uri": "https://localhost:8080/",
          "height": 51
        }
      },
      "source": [
        "a = torch.arange(10).reshape(2, 5)\n",
        "a"
      ],
      "execution_count": 88,
      "outputs": [
        {
          "output_type": "execute_result",
          "data": {
            "text/plain": [
              "tensor([[0, 1, 2, 3, 4],\n",
              "        [5, 6, 7, 8, 9]])"
            ]
          },
          "metadata": {
            "tags": []
          },
          "execution_count": 88
        }
      ]
    },
    {
      "cell_type": "code",
      "metadata": {
        "id": "aiM4-1Je1C3y",
        "colab_type": "code",
        "outputId": "10dc054d-9f06-4d38-edc2-951a970aea84",
        "colab": {
          "base_uri": "https://localhost:8080/",
          "height": 51
        }
      },
      "source": [
        "b = a[0:2, 1:3]\n",
        "b"
      ],
      "execution_count": 89,
      "outputs": [
        {
          "output_type": "execute_result",
          "data": {
            "text/plain": [
              "tensor([[1, 2],\n",
              "        [6, 7]])"
            ]
          },
          "metadata": {
            "tags": []
          },
          "execution_count": 89
        }
      ]
    },
    {
      "cell_type": "code",
      "metadata": {
        "id": "Evbxee1A1GFo",
        "colab_type": "code",
        "outputId": "4d58df33-c28c-490a-fb35-7f79edf8bf34",
        "colab": {
          "base_uri": "https://localhost:8080/",
          "height": 51
        }
      },
      "source": [
        "b[-1, :] = -999\n",
        "b"
      ],
      "execution_count": 90,
      "outputs": [
        {
          "output_type": "execute_result",
          "data": {
            "text/plain": [
              "tensor([[   1,    2],\n",
              "        [-999, -999]])"
            ]
          },
          "metadata": {
            "tags": []
          },
          "execution_count": 90
        }
      ]
    },
    {
      "cell_type": "code",
      "metadata": {
        "id": "44A4NAYewvYd",
        "colab_type": "code",
        "outputId": "ef421ad5-cc96-4a14-978c-d3f030b848f3",
        "colab": {
          "base_uri": "https://localhost:8080/",
          "height": 51
        }
      },
      "source": [
        "# The original tensor has been modified\n",
        "a"
      ],
      "execution_count": 91,
      "outputs": [
        {
          "output_type": "execute_result",
          "data": {
            "text/plain": [
              "tensor([[   0,    1,    2,    3,    4],\n",
              "        [   5, -999, -999,    8,    9]])"
            ]
          },
          "metadata": {
            "tags": []
          },
          "execution_count": 91
        }
      ]
    },
    {
      "cell_type": "code",
      "metadata": {
        "id": "chqxaQU63oxh",
        "colab_type": "code",
        "outputId": "daf1c624-5328-4a54-c3eb-c5f8d6ed510c",
        "colab": {
          "base_uri": "https://localhost:8080/",
          "height": 51
        }
      },
      "source": [
        "a[-1, -1] = -1\n",
        "a"
      ],
      "execution_count": 92,
      "outputs": [
        {
          "output_type": "execute_result",
          "data": {
            "text/plain": [
              "tensor([[   0,    1,    2,    3,    4],\n",
              "        [   5, -999, -999,    8,   -1]])"
            ]
          },
          "metadata": {
            "tags": []
          },
          "execution_count": 92
        }
      ]
    },
    {
      "cell_type": "markdown",
      "metadata": {
        "id": "Y_yFS2q51zdn",
        "colab_type": "text"
      },
      "source": [
        "> **NOTE**\n",
        ">\n",
        "> Indexing with **integers yields lower rank tensors**"
      ]
    },
    {
      "cell_type": "code",
      "metadata": {
        "id": "CqLGPTtlu22k",
        "colab_type": "code",
        "outputId": "e194adac-eff1-4e51-f14c-87d8a4b6001e",
        "colab": {
          "base_uri": "https://localhost:8080/",
          "height": 68
        }
      },
      "source": [
        "a = torch.arange(12).reshape(3, 4)\n",
        "print_arr(a)"
      ],
      "execution_count": 93,
      "outputs": [
        {
          "output_type": "stream",
          "text": [
            "tensor([[ 0,  1,  2,  3],\n",
            "        [ 4,  5,  6,  7],\n",
            "        [ 8,  9, 10, 11]]) <shape: torch.Size([3, 4])> <dtype: torch.int64>\n"
          ],
          "name": "stdout"
        }
      ]
    },
    {
      "cell_type": "code",
      "metadata": {
        "id": "u2vHVDozvCag",
        "colab_type": "code",
        "outputId": "7da174d4-a4bb-454d-8354-318a057f4dca",
        "colab": {
          "base_uri": "https://localhost:8080/",
          "height": 34
        }
      },
      "source": [
        "# Rank 1 view of the second row of a \n",
        "row_r1 = a[1, :]    \n",
        "print_arr(row_r1)"
      ],
      "execution_count": 94,
      "outputs": [
        {
          "output_type": "stream",
          "text": [
            "tensor([4, 5, 6, 7]) <shape: torch.Size([4])> <dtype: torch.int64>\n"
          ],
          "name": "stdout"
        }
      ]
    },
    {
      "cell_type": "code",
      "metadata": {
        "id": "CTsk6eG325Ib",
        "colab_type": "code",
        "outputId": "d56f8b44-6c5c-4743-efe1-f4875ed41828",
        "colab": {
          "base_uri": "https://localhost:8080/",
          "height": 34
        }
      },
      "source": [
        "# Rank 2 view of the second row of a\n",
        "row_r2 = a[1:2, :]\n",
        "print_arr(row_r2)"
      ],
      "execution_count": 95,
      "outputs": [
        {
          "output_type": "stream",
          "text": [
            "tensor([[4, 5, 6, 7]]) <shape: torch.Size([1, 4])> <dtype: torch.int64>\n"
          ],
          "name": "stdout"
        }
      ]
    },
    {
      "cell_type": "code",
      "metadata": {
        "id": "zUVPrn7l3A5j",
        "colab_type": "code",
        "outputId": "e8da3adb-3b1a-4eac-eafb-bdeda0c23d88",
        "colab": {
          "base_uri": "https://localhost:8080/",
          "height": 34
        }
      },
      "source": [
        "# Rank 2 view of the second row of a\n",
        "row_r3 = a[[1], :]\n",
        "print_arr(row_r3)"
      ],
      "execution_count": 96,
      "outputs": [
        {
          "output_type": "stream",
          "text": [
            "tensor([[4, 5, 6, 7]]) <shape: torch.Size([1, 4])> <dtype: torch.int64>\n"
          ],
          "name": "stdout"
        }
      ]
    },
    {
      "cell_type": "code",
      "metadata": {
        "id": "TL0qs9Gw3Mfu",
        "colab_type": "code",
        "outputId": "b39fe9e2-566d-4983-b4bd-70b8fa64ed20",
        "colab": {
          "base_uri": "https://localhost:8080/",
          "height": 85
        }
      },
      "source": [
        "# Same with the columns\n",
        "print_arr(a[:, 1])\n",
        "print_arr(a[:, [1]])"
      ],
      "execution_count": 97,
      "outputs": [
        {
          "output_type": "stream",
          "text": [
            "tensor([1, 5, 9]) <shape: torch.Size([3])> <dtype: torch.int64>\n",
            "tensor([[1],\n",
            "        [5],\n",
            "        [9]]) <shape: torch.Size([3, 1])> <dtype: torch.int64>\n"
          ],
          "name": "stdout"
        }
      ]
    },
    {
      "cell_type": "markdown",
      "metadata": {
        "id": "UUsBgzbl33Qc",
        "colab_type": "text"
      },
      "source": [
        "#### **Integer array indexing**\n",
        "\n",
        "It is a generalization of the slice: when you slice, the resulting tensor view will always be a subarray of the original tensor.\n",
        "\n",
        "Integer array indexing allows you to construct arbitrary tensors, using the data from another tensor"
      ]
    },
    {
      "cell_type": "code",
      "metadata": {
        "id": "8yJ7eft44Shf",
        "colab_type": "code",
        "outputId": "3d636388-110c-4141-f0cb-47fc788f2c63",
        "colab": {
          "base_uri": "https://localhost:8080/",
          "height": 68
        }
      },
      "source": [
        "a = torch.arange(1, 7).reshape(3, 2)\n",
        "print_arr(a)"
      ],
      "execution_count": 98,
      "outputs": [
        {
          "output_type": "stream",
          "text": [
            "tensor([[1, 2],\n",
            "        [3, 4],\n",
            "        [5, 6]]) <shape: torch.Size([3, 2])> <dtype: torch.int64>\n"
          ],
          "name": "stdout"
        }
      ]
    },
    {
      "cell_type": "code",
      "metadata": {
        "id": "YDGTkvIQ4qaO",
        "colab_type": "code",
        "outputId": "2b08f938-6741-4eb9-c951-a3b223155892",
        "colab": {
          "base_uri": "https://localhost:8080/",
          "height": 34
        }
      },
      "source": [
        "# Example of integer array indexing\n",
        "# The returned array will have shape (3,)\n",
        "b = a[[0, 1, 2], [0, 1, 0]]\n",
        "print_arr(b)"
      ],
      "execution_count": 99,
      "outputs": [
        {
          "output_type": "stream",
          "text": [
            "tensor([1, 4, 5]) <shape: torch.Size([3])> <dtype: torch.int64>\n"
          ],
          "name": "stdout"
        }
      ]
    },
    {
      "cell_type": "code",
      "metadata": {
        "id": "e8AjjBKF4nos",
        "colab_type": "code",
        "outputId": "f87c60ae-120a-40cf-8ae0-e6dafbf30d56",
        "colab": {
          "base_uri": "https://localhost:8080/",
          "height": 34
        }
      },
      "source": [
        "# Equivalent to\n",
        "v1, v2, v3 = a[0, 0], a[1, 1], a[2, 0]\n",
        "b = torch.tensor([v1, v2, v3])\n",
        "print_arr(b)"
      ],
      "execution_count": 100,
      "outputs": [
        {
          "output_type": "stream",
          "text": [
            "tensor([1, 4, 5]) <shape: torch.Size([3])> <dtype: torch.int64>\n"
          ],
          "name": "stdout"
        }
      ]
    },
    {
      "cell_type": "code",
      "metadata": {
        "id": "WnVB223B5Nf9",
        "colab_type": "code",
        "outputId": "13079529-94a7-4225-d3a1-55b159ec570d",
        "colab": {
          "base_uri": "https://localhost:8080/",
          "height": 51
        }
      },
      "source": [
        "# You can re-use the same element of the source tensor multiple times!\n",
        "print_arr(a[[0, 0], [1, 1]])\n",
        "print_arr(torch.tensor([a[0, 1], a[0, 1]]))"
      ],
      "execution_count": 101,
      "outputs": [
        {
          "output_type": "stream",
          "text": [
            "tensor([2, 2]) <shape: torch.Size([2])> <dtype: torch.int64>\n",
            "tensor([2, 2]) <shape: torch.Size([2])> <dtype: torch.int64>\n"
          ],
          "name": "stdout"
        }
      ]
    },
    {
      "cell_type": "code",
      "metadata": {
        "id": "NG8PUPue5ntQ",
        "colab_type": "code",
        "outputId": "82d568ac-6c80-4c36-ed7a-e4b9cd7bca33",
        "colab": {
          "base_uri": "https://localhost:8080/",
          "height": 34
        }
      },
      "source": [
        "# You can use another tensor to perform the indexing, \n",
        "# as long as they are have dtype=torch.int64 type\n",
        "i = torch.ones(3, dtype=torch.int64)\n",
        "i"
      ],
      "execution_count": 102,
      "outputs": [
        {
          "output_type": "execute_result",
          "data": {
            "text/plain": [
              "tensor([1, 1, 1])"
            ]
          },
          "metadata": {
            "tags": []
          },
          "execution_count": 102
        }
      ]
    },
    {
      "cell_type": "code",
      "metadata": {
        "id": "yp--PCJN5uvA",
        "colab_type": "code",
        "outputId": "43e8ecf5-46f0-4d48-d48c-ebd15f4b62e4",
        "colab": {
          "base_uri": "https://localhost:8080/",
          "height": 34
        }
      },
      "source": [
        "j = torch.tensor([0, 1, 0])\n",
        "j"
      ],
      "execution_count": 103,
      "outputs": [
        {
          "output_type": "execute_result",
          "data": {
            "text/plain": [
              "tensor([0, 1, 0])"
            ]
          },
          "metadata": {
            "tags": []
          },
          "execution_count": 103
        }
      ]
    },
    {
      "cell_type": "code",
      "metadata": {
        "id": "RrlnZbw25w3H",
        "colab_type": "code",
        "outputId": "92d6b7f8-e188-4d67-9251-8c775d40f59f",
        "colab": {
          "base_uri": "https://localhost:8080/",
          "height": 102
        }
      },
      "source": [
        "out = a[i, j]\n",
        "\n",
        "print_arr(a, out)"
      ],
      "execution_count": 104,
      "outputs": [
        {
          "output_type": "stream",
          "text": [
            "tensor([[1, 2],\n",
            "        [3, 4],\n",
            "        [5, 6]]) <shape: torch.Size([3, 2])> <dtype: torch.int64>\n",
            "\n",
            "tensor([3, 4, 3]) <shape: torch.Size([3])> <dtype: torch.int64>\n"
          ],
          "name": "stdout"
        }
      ]
    },
    {
      "cell_type": "markdown",
      "metadata": {
        "id": "gzr5hn34sjko",
        "colab_type": "text"
      },
      "source": [
        "> **EXERCISE**\n",
        ">\n",
        "> Change one element in each row of a tensor $X \\in R^{4 \\times 3}$:\n",
        ">\n",
        "> `X[0,2] = -1`\n",
        ">\n",
        "> `X[1,1] = 0`\n",
        ">\n",
        "> `X[2,0] = 1`\n",
        ">\n",
        "> `X[3,1] = 2`\n",
        "\n"
      ]
    },
    {
      "cell_type": "code",
      "metadata": {
        "id": "lbcM_8eRtNg0",
        "colab_type": "code",
        "outputId": "e8b4ac7e-982b-4403-9368-4fbe95cc1212",
        "colab": {
          "base_uri": "https://localhost:8080/",
          "height": 170
        }
      },
      "source": [
        "# Mutate one element from each row of a matrix\n",
        "a = torch.arange(12).reshape(4, 3)\n",
        "print(a, end='\\n\\n')\n",
        "\n",
        "row_indices = torch.arange(a.shape[0])\n",
        "a[row_indices, [2, 1, 0, 1]] = torch.tensor([-1, 0, 1, 2])\n",
        "\n",
        "print(a)"
      ],
      "execution_count": 105,
      "outputs": [
        {
          "output_type": "stream",
          "text": [
            "tensor([[ 0,  1,  2],\n",
            "        [ 3,  4,  5],\n",
            "        [ 6,  7,  8],\n",
            "        [ 9, 10, 11]])\n",
            "\n",
            "tensor([[ 0,  1, -1],\n",
            "        [ 3,  0,  5],\n",
            "        [ 1,  7,  8],\n",
            "        [ 9,  2, 11]])\n"
          ],
          "name": "stdout"
        }
      ]
    },
    {
      "cell_type": "code",
      "metadata": {
        "id": "3k3YJOPs6_AN",
        "colab_type": "code",
        "outputId": "83a347f8-cf8b-4b2a-b53d-0d9d34a72ca4",
        "colab": {
          "base_uri": "https://localhost:8080/",
          "height": 34
        }
      },
      "source": [
        "# Parametric row indexing\n",
        "\n",
        "# Create an array of indices for each row\n",
        "j = torch.tensor([2, 1, 0, 1])\n",
        "\n",
        "# Select one element from each row using the indices in b\n",
        "a[torch.arange(a.shape[0]), j]"
      ],
      "execution_count": 106,
      "outputs": [
        {
          "output_type": "execute_result",
          "data": {
            "text/plain": [
              "tensor([-1,  0,  1,  2])"
            ]
          },
          "metadata": {
            "tags": []
          },
          "execution_count": 106
        }
      ]
    },
    {
      "cell_type": "code",
      "metadata": {
        "id": "BihSrS7h7WUx",
        "colab_type": "code",
        "outputId": "75f63b2b-fdc3-4f95-8696-713454de14d5",
        "colab": {
          "base_uri": "https://localhost:8080/",
          "height": 85
        }
      },
      "source": [
        "# Mutate one element from each row, using the indices in b\n",
        "a[torch.arange(a.shape[0]), j] += 1000\n",
        "a"
      ],
      "execution_count": 107,
      "outputs": [
        {
          "output_type": "execute_result",
          "data": {
            "text/plain": [
              "tensor([[   0,    1,  999],\n",
              "        [   3, 1000,    5],\n",
              "        [1001,    7,    8],\n",
              "        [   9, 1002,   11]])"
            ]
          },
          "metadata": {
            "tags": []
          },
          "execution_count": 107
        }
      ]
    },
    {
      "cell_type": "markdown",
      "metadata": {
        "id": "544F9pAf-qRY",
        "colab_type": "text"
      },
      "source": [
        "> **NOTE**\n",
        ">\n",
        "> **Slice indexing vs Array indexing**\n"
      ]
    },
    {
      "cell_type": "code",
      "metadata": {
        "id": "b-GYMhxA-tOY",
        "colab_type": "code",
        "outputId": "08584dc0-2869-46e0-c05c-40fc3a342a7d",
        "colab": {
          "base_uri": "https://localhost:8080/",
          "height": 85
        }
      },
      "source": [
        "a = torch.arange(16).reshape(4, 4)\n",
        "a"
      ],
      "execution_count": 108,
      "outputs": [
        {
          "output_type": "execute_result",
          "data": {
            "text/plain": [
              "tensor([[ 0,  1,  2,  3],\n",
              "        [ 4,  5,  6,  7],\n",
              "        [ 8,  9, 10, 11],\n",
              "        [12, 13, 14, 15]])"
            ]
          },
          "metadata": {
            "tags": []
          },
          "execution_count": 108
        }
      ]
    },
    {
      "cell_type": "code",
      "metadata": {
        "id": "Piy-JUdv-x0_",
        "colab_type": "code",
        "outputId": "5ebb6867-5388-49ab-cee6-c777df308f20",
        "colab": {
          "base_uri": "https://localhost:8080/",
          "height": 68
        }
      },
      "source": [
        "a[0:3, 0:3]"
      ],
      "execution_count": 109,
      "outputs": [
        {
          "output_type": "execute_result",
          "data": {
            "text/plain": [
              "tensor([[ 0,  1,  2],\n",
              "        [ 4,  5,  6],\n",
              "        [ 8,  9, 10]])"
            ]
          },
          "metadata": {
            "tags": []
          },
          "execution_count": 109
        }
      ]
    },
    {
      "cell_type": "code",
      "metadata": {
        "id": "fXJJAq9G-0rX",
        "colab_type": "code",
        "outputId": "47db9db9-0e90-4838-b6f9-cc45954adb05",
        "colab": {
          "base_uri": "https://localhost:8080/",
          "height": 34
        }
      },
      "source": [
        "a[[0, 1, 2], [0, 1, 2]]"
      ],
      "execution_count": 110,
      "outputs": [
        {
          "output_type": "execute_result",
          "data": {
            "text/plain": [
              "tensor([ 0,  5, 10])"
            ]
          },
          "metadata": {
            "tags": []
          },
          "execution_count": 110
        }
      ]
    },
    {
      "cell_type": "code",
      "metadata": {
        "id": "hkmiQgQT_k82",
        "colab_type": "code",
        "outputId": "19e238b7-f765-49ef-d376-b98b43840f4b",
        "colab": {
          "base_uri": "https://localhost:8080/",
          "height": 51
        }
      },
      "source": [
        "a[0:5:2, 0:5:2]"
      ],
      "execution_count": 111,
      "outputs": [
        {
          "output_type": "execute_result",
          "data": {
            "text/plain": [
              "tensor([[ 0,  2],\n",
              "        [ 8, 10]])"
            ]
          },
          "metadata": {
            "tags": []
          },
          "execution_count": 111
        }
      ]
    },
    {
      "cell_type": "markdown",
      "metadata": {
        "id": "QVMo8E2W_wAw",
        "colab_type": "text"
      },
      "source": [
        "#### **Boolean array indexing**\n",
        "\n",
        "This type of indexing is used to select the elements of a tensor that satisfy some condition (similar to MATLAB's logical indexing):"
      ]
    },
    {
      "cell_type": "code",
      "metadata": {
        "id": "OFIFupWJAnI9",
        "colab_type": "code",
        "outputId": "177896bb-74d9-472b-8c50-2845f2003d47",
        "colab": {
          "base_uri": "https://localhost:8080/",
          "height": 68
        }
      },
      "source": [
        "a = torch.arange(6).reshape(3, 2)\n",
        "a"
      ],
      "execution_count": 112,
      "outputs": [
        {
          "output_type": "execute_result",
          "data": {
            "text/plain": [
              "tensor([[0, 1],\n",
              "        [2, 3],\n",
              "        [4, 5]])"
            ]
          },
          "metadata": {
            "tags": []
          },
          "execution_count": 112
        }
      ]
    },
    {
      "cell_type": "code",
      "metadata": {
        "id": "jMaNbpVPAtMm",
        "colab_type": "code",
        "outputId": "36cc62d7-bd9a-4159-aa61-9896d71f8188",
        "colab": {
          "base_uri": "https://localhost:8080/",
          "height": 68
        }
      },
      "source": [
        "bool_idx = (a > 2)\n",
        "bool_idx"
      ],
      "execution_count": 113,
      "outputs": [
        {
          "output_type": "execute_result",
          "data": {
            "text/plain": [
              "tensor([[False, False],\n",
              "        [False,  True],\n",
              "        [ True,  True]])"
            ]
          },
          "metadata": {
            "tags": []
          },
          "execution_count": 113
        }
      ]
    },
    {
      "cell_type": "code",
      "metadata": {
        "id": "XbYWFo8TArod",
        "colab_type": "code",
        "outputId": "485b1ac6-b690-496b-f0b5-3a0cc2724d61",
        "colab": {
          "base_uri": "https://localhost:8080/",
          "height": 34
        }
      },
      "source": [
        "a[bool_idx]"
      ],
      "execution_count": 114,
      "outputs": [
        {
          "output_type": "execute_result",
          "data": {
            "text/plain": [
              "tensor([3, 4, 5])"
            ]
          },
          "metadata": {
            "tags": []
          },
          "execution_count": 114
        }
      ]
    },
    {
      "cell_type": "markdown",
      "metadata": {
        "id": "kzVyXjJgBMKa",
        "colab_type": "text"
      },
      "source": [
        "If you want to know more about indexing in PyTorch and Numpy read the [documentation](https://docs.scipy.org/doc/numpy/reference/arrays.indexing.html)"
      ]
    },
    {
      "cell_type": "markdown",
      "metadata": {
        "id": "fbUID2DlLuhq",
        "colab_type": "text"
      },
      "source": [
        "> **EXERCISE**\n",
        ">\n",
        "> Build a 3D tensor in $X \\in R^{k \\times k \\times k}$ that has ones along the 3D-diagonal and zeros elsewhere, i.e. a 3D identity."
      ]
    },
    {
      "cell_type": "markdown",
      "metadata": {
        "id": "5uLHb9jWM0jM",
        "colab_type": "text"
      },
      "source": [
        "> **EXERCISE**\n",
        ">\n",
        "> Build a 3D tensor $X \\in R^{w \\times h \\times 3}$ representing an image $w \\times h$ plus the `(r, g, b)` color channel. Assume the color channel is the last dimension in the tensor and each color $c \\in [0, 1]$.\n",
        ">\n",
        "> Color the image $X$ completely by red, i.e. `(1, 0, 0)` in the `(r, g, b)` format."
      ]
    },
    {
      "cell_type": "code",
      "metadata": {
        "id": "g_HG8I5zNnpJ",
        "colab_type": "code",
        "outputId": "1e4b9fc1-31b3-46e0-848d-8a167f8e839b",
        "colab": {
          "base_uri": "https://localhost:8080/",
          "height": 218
        }
      },
      "source": [
        "# Create and visualize a black image\n",
        "x = torch.zeros(100, 200, 3)\n",
        "\n",
        "%matplotlib inline\n",
        "import matplotlib.pyplot as plt\n",
        "img = plt.imshow(x)"
      ],
      "execution_count": 115,
      "outputs": [
        {
          "output_type": "display_data",
          "data": {
            "image/png": "[encoded data removed]",
            "text/plain": [
              "<Figure size 432x288 with 1 Axes>"
            ]
          },
          "metadata": {
            "tags": []
          }
        }
      ]
    },
    {
      "cell_type": "markdown",
      "metadata": {
        "id": "ps_j8BUcQmWu",
        "colab_type": "text"
      },
      "source": [
        "> **EXERCISE**\n",
        ">\n",
        "> Given the GitHub logo $X \\in R^{560 \\times 560}$, change the black-ish color into light gray: $0.8$.  Assume the logo is in grey scale, with the color $c \\in [0, 1]$ (remember 0 $\\to$ black).\n",
        ">\n",
        "> Then draw a diagonal and anti-diagonal black line (i.e. an X) on the new image, to mark that the new logo is wrong."
      ]
    },
    {
      "cell_type": "code",
      "metadata": {
        "id": "X0082ZNOP-EK",
        "colab_type": "code",
        "outputId": "3afdd787-260f-46c0-de74-6051af07189d",
        "colab": {
          "base_uri": "https://localhost:8080/",
          "height": 269
        }
      },
      "source": [
        "from skimage import io\n",
        "\n",
        "image = io.imread('https://github.githubassets.com/images/modules/logos_page/GitHub-Mark.png', as_gray=True)\n",
        "_ = plt.imshow(image, cmap='gray', vmin=0, vmax=1)"
      ],
      "execution_count": 116,
      "outputs": [
        {
          "output_type": "display_data",
          "data": {
            "image/png": "[encoded data removed]",
            "text/plain": [
              "<Figure size 432x288 with 1 Axes>"
            ]
          },
          "metadata": {
            "tags": []
          }
        }
      ]
    },
    {
      "cell_type": "code",
      "metadata": {
        "id": "thBZCe_3QyxM",
        "colab_type": "code",
        "outputId": "438d5817-8e57-4c83-d2a3-0e4a7f1e5a3d",
        "colab": {
          "base_uri": "https://localhost:8080/",
          "height": 269
        }
      },
      "source": [
        "# Change the black into light-gray\n",
        "X = torch.from_numpy(image.copy())  # PyTorch CPU and Numpy share the memory!\n",
        "# ?\n",
        "_ = plt.imshow(X, cmap='gray', vmin=0, vmax=1)"
      ],
      "execution_count": 117,
      "outputs": [
        {
          "output_type": "display_data",
          "data": {
            "image/png": "[encoded data removed]",
            "text/plain": [
              "<Figure size 432x288 with 1 Axes>"
            ]
          },
          "metadata": {
            "tags": []
          }
        }
      ]
    },
    {
      "cell_type": "code",
      "metadata": {
        "id": "DvjjGYmkX8m7",
        "colab_type": "code",
        "outputId": "c436e813-2bc3-4cd0-c9b1-3fa15430760c",
        "colab": {
          "base_uri": "https://localhost:8080/",
          "height": 269
        }
      },
      "source": [
        "# Mark the new image as wrong with a big black X\n",
        "# ?\n",
        "_ = plt.imshow(X, cmap='gray', vmin=0, vmax=1)"
      ],
      "execution_count": 118,
      "outputs": [
        {
          "output_type": "display_data",
          "data": {
            "image/png": "[encoded data removed]",
            "text/plain": [
              "<Figure size 432x288 with 1 Axes>"
            ]
          },
          "metadata": {
            "tags": []
          }
        }
      ]
    }
  ]
}
